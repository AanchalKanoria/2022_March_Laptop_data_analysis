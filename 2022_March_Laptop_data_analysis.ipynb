{
 "cells": [
  {
   "cell_type": "markdown",
   "metadata": {},
   "source": [
    "# 2022 March Laptop Data Analysis\n",
    "\n",
    "The data is regarding the laptop prices, rating, model, version, and so on. The data for this project is taken from www.kaggle.com and different python libraries such as matplotlib, pandas and numpy are used learnt from the course offered by jovian.com (Data Analysis with Python: Zero to Pandas. "
   ]
  },
  {
   "cell_type": "markdown",
   "metadata": {},
   "source": [
    "## Downloading the Dataset\n",
    "\n",
    "The dataset will be downloaded using opendatasets from python."
   ]
  },
  {
   "cell_type": "code",
   "execution_count": 1,
   "metadata": {},
   "outputs": [],
   "source": [
    "!pip install jovian opendatasets --upgrade --quiet"
   ]
  },
  {
   "cell_type": "markdown",
   "metadata": {},
   "source": [
    "Let's begin by downloading the data, and listing the files within the dataset."
   ]
  },
  {
   "cell_type": "code",
   "execution_count": 2,
   "metadata": {},
   "outputs": [],
   "source": [
    "dataset_url = 'https://www.kaggle.com/datasets/kuchhbhi/2022-march-laptop-data' "
   ]
  },
  {
   "cell_type": "code",
   "execution_count": 3,
   "metadata": {},
   "outputs": [
    {
     "name": "stdout",
     "output_type": "stream",
     "text": [
      "Please provide your Kaggle credentials to download this dataset. Learn more: http://bit.ly/kaggle-creds\n",
      "Your Kaggle username: aanchalkanoria\n",
      "Your Kaggle Key: ········\n",
      "Downloading 2022-march-laptop-data.zip to ./2022-march-laptop-data\n"
     ]
    },
    {
     "name": "stderr",
     "output_type": "stream",
     "text": [
      "100%|██████████| 16.8k/16.8k [00:00<00:00, 18.2MB/s]"
     ]
    },
    {
     "name": "stdout",
     "output_type": "stream",
     "text": [
      "\n"
     ]
    },
    {
     "name": "stderr",
     "output_type": "stream",
     "text": [
      "\n"
     ]
    }
   ],
   "source": [
    "import opendatasets as od\n",
    "od.download(dataset_url)"
   ]
  },
  {
   "cell_type": "markdown",
   "metadata": {},
   "source": [
    "The dataset has been downloaded and extracted."
   ]
  },
  {
   "cell_type": "code",
   "execution_count": 4,
   "metadata": {},
   "outputs": [],
   "source": [
    "data_dir = './2022-march-laptop-data'"
   ]
  },
  {
   "cell_type": "code",
   "execution_count": 5,
   "metadata": {},
   "outputs": [
    {
     "data": {
      "text/plain": [
       "['Cleaned_Laptop_data.csv']"
      ]
     },
     "execution_count": 5,
     "metadata": {},
     "output_type": "execute_result"
    }
   ],
   "source": [
    "import os\n",
    "os.listdir(data_dir)"
   ]
  },
  {
   "cell_type": "markdown",
   "metadata": {},
   "source": [
    "Let us save and upload our work to Jovian before continuing."
   ]
  },
  {
   "cell_type": "code",
   "execution_count": 6,
   "metadata": {},
   "outputs": [],
   "source": [
    "project_name = \"Laptop Data Analysis\""
   ]
  },
  {
   "cell_type": "code",
   "execution_count": 7,
   "metadata": {},
   "outputs": [],
   "source": [
    "!pip install jovian --upgrade -q"
   ]
  },
  {
   "cell_type": "code",
   "execution_count": 8,
   "metadata": {},
   "outputs": [],
   "source": [
    "import jovian"
   ]
  },
  {
   "cell_type": "code",
   "execution_count": 9,
   "metadata": {},
   "outputs": [
    {
     "data": {
      "application/javascript": [
       "window.require && require([\"base/js/namespace\"],function(Jupyter){Jupyter.notebook.save_checkpoint()})"
      ],
      "text/plain": [
       "<IPython.core.display.Javascript object>"
      ]
     },
     "metadata": {},
     "output_type": "display_data"
    },
    {
     "name": "stdout",
     "output_type": "stream",
     "text": [
      "[jovian] Updating notebook \"aanchalkanoria902/laptop-data-analysis\" on https://jovian.ai\u001b[0m\n",
      "[jovian] Committed successfully! https://jovian.ai/aanchalkanoria902/laptop-data-analysis\u001b[0m\n"
     ]
    },
    {
     "data": {
      "text/plain": [
       "'https://jovian.ai/aanchalkanoria902/laptop-data-analysis'"
      ]
     },
     "execution_count": 9,
     "metadata": {},
     "output_type": "execute_result"
    }
   ],
   "source": [
    "jovian.commit(project=\"Laptop Data Analysis\")"
   ]
  },
  {
   "cell_type": "markdown",
   "metadata": {},
   "source": [
    "## Data Preparation and Cleaning\n",
    "\n",
    "Reading the data and analyzing various aspects."
   ]
  },
  {
   "cell_type": "code",
   "execution_count": 10,
   "metadata": {},
   "outputs": [],
   "source": [
    "import numpy as np\n",
    "import pandas as pd\n",
    "import seaborn as sns"
   ]
  },
  {
   "cell_type": "code",
   "execution_count": 11,
   "metadata": {},
   "outputs": [],
   "source": [
    "# Let us read our data\n",
    "\n",
    "data = pd.read_csv(\"./2022-march-laptop-data/Cleaned_Laptop_data.csv\")"
   ]
  },
  {
   "cell_type": "code",
   "execution_count": 12,
   "metadata": {},
   "outputs": [],
   "source": [
    "df=data.copy()"
   ]
  },
  {
   "cell_type": "code",
   "execution_count": 13,
   "metadata": {},
   "outputs": [
    {
     "data": {
      "text/html": [
       "<div>\n",
       "<style scoped>\n",
       "    .dataframe tbody tr th:only-of-type {\n",
       "        vertical-align: middle;\n",
       "    }\n",
       "\n",
       "    .dataframe tbody tr th {\n",
       "        vertical-align: top;\n",
       "    }\n",
       "\n",
       "    .dataframe thead th {\n",
       "        text-align: right;\n",
       "    }\n",
       "</style>\n",
       "<table border=\"1\" class=\"dataframe\">\n",
       "  <thead>\n",
       "    <tr style=\"text-align: right;\">\n",
       "      <th></th>\n",
       "      <th>brand</th>\n",
       "      <th>model</th>\n",
       "      <th>processor_brand</th>\n",
       "      <th>processor_name</th>\n",
       "      <th>processor_gnrtn</th>\n",
       "      <th>ram_gb</th>\n",
       "      <th>ram_type</th>\n",
       "      <th>ssd</th>\n",
       "      <th>hdd</th>\n",
       "      <th>os</th>\n",
       "      <th>...</th>\n",
       "      <th>display_size</th>\n",
       "      <th>warranty</th>\n",
       "      <th>Touchscreen</th>\n",
       "      <th>msoffice</th>\n",
       "      <th>latest_price</th>\n",
       "      <th>old_price</th>\n",
       "      <th>discount</th>\n",
       "      <th>star_rating</th>\n",
       "      <th>ratings</th>\n",
       "      <th>reviews</th>\n",
       "    </tr>\n",
       "  </thead>\n",
       "  <tbody>\n",
       "    <tr>\n",
       "      <th>0</th>\n",
       "      <td>ASUS</td>\n",
       "      <td>Celeron</td>\n",
       "      <td>Intel</td>\n",
       "      <td>Celeron Dual</td>\n",
       "      <td>Missing</td>\n",
       "      <td>4</td>\n",
       "      <td>DDR4</td>\n",
       "      <td>0</td>\n",
       "      <td>1024</td>\n",
       "      <td>Windows</td>\n",
       "      <td>...</td>\n",
       "      <td>15.6</td>\n",
       "      <td>1</td>\n",
       "      <td>No</td>\n",
       "      <td>No</td>\n",
       "      <td>23990</td>\n",
       "      <td>26990</td>\n",
       "      <td>11</td>\n",
       "      <td>3.8</td>\n",
       "      <td>15279</td>\n",
       "      <td>1947</td>\n",
       "    </tr>\n",
       "    <tr>\n",
       "      <th>1</th>\n",
       "      <td>ASUS</td>\n",
       "      <td>VivoBook</td>\n",
       "      <td>Intel</td>\n",
       "      <td>Core i3</td>\n",
       "      <td>10th</td>\n",
       "      <td>8</td>\n",
       "      <td>DDR4</td>\n",
       "      <td>512</td>\n",
       "      <td>0</td>\n",
       "      <td>Windows</td>\n",
       "      <td>...</td>\n",
       "      <td>15.6</td>\n",
       "      <td>1</td>\n",
       "      <td>No</td>\n",
       "      <td>No</td>\n",
       "      <td>37990</td>\n",
       "      <td>50990</td>\n",
       "      <td>25</td>\n",
       "      <td>4.3</td>\n",
       "      <td>990</td>\n",
       "      <td>108</td>\n",
       "    </tr>\n",
       "    <tr>\n",
       "      <th>2</th>\n",
       "      <td>ASUS</td>\n",
       "      <td>Vivobook</td>\n",
       "      <td>Intel</td>\n",
       "      <td>Core i3</td>\n",
       "      <td>10th</td>\n",
       "      <td>8</td>\n",
       "      <td>DDR4</td>\n",
       "      <td>0</td>\n",
       "      <td>1024</td>\n",
       "      <td>Windows</td>\n",
       "      <td>...</td>\n",
       "      <td>14.1</td>\n",
       "      <td>1</td>\n",
       "      <td>No</td>\n",
       "      <td>No</td>\n",
       "      <td>32890</td>\n",
       "      <td>46990</td>\n",
       "      <td>30</td>\n",
       "      <td>3.9</td>\n",
       "      <td>28</td>\n",
       "      <td>4</td>\n",
       "    </tr>\n",
       "    <tr>\n",
       "      <th>3</th>\n",
       "      <td>HP</td>\n",
       "      <td>Core</td>\n",
       "      <td>Intel</td>\n",
       "      <td>Core i3</td>\n",
       "      <td>11th</td>\n",
       "      <td>8</td>\n",
       "      <td>DDR4</td>\n",
       "      <td>512</td>\n",
       "      <td>0</td>\n",
       "      <td>Windows</td>\n",
       "      <td>...</td>\n",
       "      <td>15.6</td>\n",
       "      <td>1</td>\n",
       "      <td>No</td>\n",
       "      <td>Yes</td>\n",
       "      <td>42990</td>\n",
       "      <td>57330</td>\n",
       "      <td>25</td>\n",
       "      <td>4.4</td>\n",
       "      <td>158</td>\n",
       "      <td>18</td>\n",
       "    </tr>\n",
       "    <tr>\n",
       "      <th>4</th>\n",
       "      <td>HP</td>\n",
       "      <td>Core</td>\n",
       "      <td>Intel</td>\n",
       "      <td>Core i5</td>\n",
       "      <td>11th</td>\n",
       "      <td>8</td>\n",
       "      <td>DDR4</td>\n",
       "      <td>512</td>\n",
       "      <td>0</td>\n",
       "      <td>Windows</td>\n",
       "      <td>...</td>\n",
       "      <td>15.6</td>\n",
       "      <td>0</td>\n",
       "      <td>No</td>\n",
       "      <td>No</td>\n",
       "      <td>54990</td>\n",
       "      <td>70171</td>\n",
       "      <td>21</td>\n",
       "      <td>4.2</td>\n",
       "      <td>116</td>\n",
       "      <td>15</td>\n",
       "    </tr>\n",
       "    <tr>\n",
       "      <th>...</th>\n",
       "      <td>...</td>\n",
       "      <td>...</td>\n",
       "      <td>...</td>\n",
       "      <td>...</td>\n",
       "      <td>...</td>\n",
       "      <td>...</td>\n",
       "      <td>...</td>\n",
       "      <td>...</td>\n",
       "      <td>...</td>\n",
       "      <td>...</td>\n",
       "      <td>...</td>\n",
       "      <td>...</td>\n",
       "      <td>...</td>\n",
       "      <td>...</td>\n",
       "      <td>...</td>\n",
       "      <td>...</td>\n",
       "      <td>...</td>\n",
       "      <td>...</td>\n",
       "      <td>...</td>\n",
       "      <td>...</td>\n",
       "      <td>...</td>\n",
       "    </tr>\n",
       "    <tr>\n",
       "      <th>891</th>\n",
       "      <td>DELL</td>\n",
       "      <td>Core</td>\n",
       "      <td>Intel</td>\n",
       "      <td>Core i3</td>\n",
       "      <td>10th</td>\n",
       "      <td>8</td>\n",
       "      <td>DDR4</td>\n",
       "      <td>256</td>\n",
       "      <td>1024</td>\n",
       "      <td>Windows</td>\n",
       "      <td>...</td>\n",
       "      <td>15.6</td>\n",
       "      <td>0</td>\n",
       "      <td>No</td>\n",
       "      <td>No</td>\n",
       "      <td>46390</td>\n",
       "      <td>59101</td>\n",
       "      <td>21</td>\n",
       "      <td>2.9</td>\n",
       "      <td>95</td>\n",
       "      <td>5</td>\n",
       "    </tr>\n",
       "    <tr>\n",
       "      <th>892</th>\n",
       "      <td>DELL</td>\n",
       "      <td>Core</td>\n",
       "      <td>Intel</td>\n",
       "      <td>Core i3</td>\n",
       "      <td>10th</td>\n",
       "      <td>8</td>\n",
       "      <td>DDR4</td>\n",
       "      <td>0</td>\n",
       "      <td>1024</td>\n",
       "      <td>Windows</td>\n",
       "      <td>...</td>\n",
       "      <td>14.96</td>\n",
       "      <td>0</td>\n",
       "      <td>No</td>\n",
       "      <td>No</td>\n",
       "      <td>40390</td>\n",
       "      <td>54992</td>\n",
       "      <td>26</td>\n",
       "      <td>3.2</td>\n",
       "      <td>83</td>\n",
       "      <td>15</td>\n",
       "    </tr>\n",
       "    <tr>\n",
       "      <th>893</th>\n",
       "      <td>HP</td>\n",
       "      <td>Pavilion</td>\n",
       "      <td>Intel</td>\n",
       "      <td>Core i5</td>\n",
       "      <td>8th</td>\n",
       "      <td>8</td>\n",
       "      <td>DDR4</td>\n",
       "      <td>128</td>\n",
       "      <td>0</td>\n",
       "      <td>Windows</td>\n",
       "      <td>...</td>\n",
       "      <td>13.3</td>\n",
       "      <td>1</td>\n",
       "      <td>No</td>\n",
       "      <td>No</td>\n",
       "      <td>76012</td>\n",
       "      <td>0</td>\n",
       "      <td>0</td>\n",
       "      <td>4.3</td>\n",
       "      <td>129</td>\n",
       "      <td>16</td>\n",
       "    </tr>\n",
       "    <tr>\n",
       "      <th>894</th>\n",
       "      <td>ASUS</td>\n",
       "      <td>Vivobook</td>\n",
       "      <td>Intel</td>\n",
       "      <td>Core i3</td>\n",
       "      <td>10th</td>\n",
       "      <td>4</td>\n",
       "      <td>DDR4</td>\n",
       "      <td>0</td>\n",
       "      <td>1024</td>\n",
       "      <td>Windows</td>\n",
       "      <td>...</td>\n",
       "      <td>14.1</td>\n",
       "      <td>0</td>\n",
       "      <td>No</td>\n",
       "      <td>No</td>\n",
       "      <td>33990</td>\n",
       "      <td>39990</td>\n",
       "      <td>15</td>\n",
       "      <td>3.4</td>\n",
       "      <td>31</td>\n",
       "      <td>6</td>\n",
       "    </tr>\n",
       "    <tr>\n",
       "      <th>895</th>\n",
       "      <td>Lenovo</td>\n",
       "      <td>v15</td>\n",
       "      <td>Intel</td>\n",
       "      <td>Core i3</td>\n",
       "      <td>10th</td>\n",
       "      <td>4</td>\n",
       "      <td>DDR4</td>\n",
       "      <td>0</td>\n",
       "      <td>1024</td>\n",
       "      <td>Missing</td>\n",
       "      <td>...</td>\n",
       "      <td>15.6</td>\n",
       "      <td>0</td>\n",
       "      <td>No</td>\n",
       "      <td>No</td>\n",
       "      <td>39999</td>\n",
       "      <td>43999</td>\n",
       "      <td>9</td>\n",
       "      <td>3.1</td>\n",
       "      <td>8</td>\n",
       "      <td>1</td>\n",
       "    </tr>\n",
       "  </tbody>\n",
       "</table>\n",
       "<p>896 rows × 23 columns</p>\n",
       "</div>"
      ],
      "text/plain": [
       "      brand     model processor_brand processor_name processor_gnrtn ram_gb  \\\n",
       "0      ASUS   Celeron           Intel   Celeron Dual         Missing      4   \n",
       "1      ASUS  VivoBook           Intel        Core i3            10th      8   \n",
       "2      ASUS  Vivobook           Intel        Core i3            10th      8   \n",
       "3        HP      Core           Intel        Core i3            11th      8   \n",
       "4        HP      Core           Intel        Core i5            11th      8   \n",
       "..      ...       ...             ...            ...             ...    ...   \n",
       "891    DELL      Core           Intel        Core i3            10th      8   \n",
       "892    DELL      Core           Intel        Core i3            10th      8   \n",
       "893      HP  Pavilion           Intel        Core i5             8th      8   \n",
       "894    ASUS  Vivobook           Intel        Core i3            10th      4   \n",
       "895  Lenovo       v15           Intel        Core i3            10th      4   \n",
       "\n",
       "    ram_type  ssd   hdd       os  ...  display_size  warranty Touchscreen  \\\n",
       "0       DDR4    0  1024  Windows  ...          15.6         1          No   \n",
       "1       DDR4  512     0  Windows  ...          15.6         1          No   \n",
       "2       DDR4    0  1024  Windows  ...          14.1         1          No   \n",
       "3       DDR4  512     0  Windows  ...          15.6         1          No   \n",
       "4       DDR4  512     0  Windows  ...          15.6         0          No   \n",
       "..       ...  ...   ...      ...  ...           ...       ...         ...   \n",
       "891     DDR4  256  1024  Windows  ...          15.6         0          No   \n",
       "892     DDR4    0  1024  Windows  ...         14.96         0          No   \n",
       "893     DDR4  128     0  Windows  ...          13.3         1          No   \n",
       "894     DDR4    0  1024  Windows  ...          14.1         0          No   \n",
       "895     DDR4    0  1024  Missing  ...          15.6         0          No   \n",
       "\n",
       "    msoffice  latest_price old_price discount  star_rating  ratings  reviews  \n",
       "0         No         23990     26990       11          3.8    15279     1947  \n",
       "1         No         37990     50990       25          4.3      990      108  \n",
       "2         No         32890     46990       30          3.9       28        4  \n",
       "3        Yes         42990     57330       25          4.4      158       18  \n",
       "4         No         54990     70171       21          4.2      116       15  \n",
       "..       ...           ...       ...      ...          ...      ...      ...  \n",
       "891       No         46390     59101       21          2.9       95        5  \n",
       "892       No         40390     54992       26          3.2       83       15  \n",
       "893       No         76012         0        0          4.3      129       16  \n",
       "894       No         33990     39990       15          3.4       31        6  \n",
       "895       No         39999     43999        9          3.1        8        1  \n",
       "\n",
       "[896 rows x 23 columns]"
      ]
     },
     "execution_count": 13,
     "metadata": {},
     "output_type": "execute_result"
    }
   ],
   "source": [
    "df"
   ]
  },
  {
   "cell_type": "code",
   "execution_count": 14,
   "metadata": {},
   "outputs": [
    {
     "name": "stdout",
     "output_type": "stream",
     "text": [
      "<class 'pandas.core.frame.DataFrame'>\n",
      "RangeIndex: 896 entries, 0 to 895\n",
      "Data columns (total 23 columns):\n",
      " #   Column           Non-Null Count  Dtype  \n",
      "---  ------           --------------  -----  \n",
      " 0   brand            896 non-null    object \n",
      " 1   model            896 non-null    object \n",
      " 2   processor_brand  896 non-null    object \n",
      " 3   processor_name   895 non-null    object \n",
      " 4   processor_gnrtn  896 non-null    object \n",
      " 5   ram_gb           871 non-null    object \n",
      " 6   ram_type         871 non-null    object \n",
      " 7   ssd              896 non-null    int64  \n",
      " 8   hdd              896 non-null    int64  \n",
      " 9   os               896 non-null    object \n",
      " 10  os_bit           896 non-null    int64  \n",
      " 11  graphic_card_gb  896 non-null    int64  \n",
      " 12  weight           896 non-null    object \n",
      " 13  display_size     896 non-null    object \n",
      " 14  warranty         896 non-null    int64  \n",
      " 15  Touchscreen      896 non-null    object \n",
      " 16  msoffice         896 non-null    object \n",
      " 17  latest_price     896 non-null    int64  \n",
      " 18  old_price        896 non-null    int64  \n",
      " 19  discount         896 non-null    int64  \n",
      " 20  star_rating      896 non-null    float64\n",
      " 21  ratings          896 non-null    int64  \n",
      " 22  reviews          896 non-null    int64  \n",
      "dtypes: float64(1), int64(10), object(12)\n",
      "memory usage: 161.1+ KB\n"
     ]
    }
   ],
   "source": [
    "# Lets check our data\n",
    "\n",
    "df.info()"
   ]
  },
  {
   "cell_type": "code",
   "execution_count": 15,
   "metadata": {},
   "outputs": [
    {
     "data": {
      "text/plain": [
       "brand               0\n",
       "model               0\n",
       "processor_brand     0\n",
       "processor_name      1\n",
       "processor_gnrtn     0\n",
       "ram_gb             25\n",
       "ram_type           25\n",
       "ssd                 0\n",
       "hdd                 0\n",
       "os                  0\n",
       "os_bit              0\n",
       "graphic_card_gb     0\n",
       "weight              0\n",
       "display_size        0\n",
       "warranty            0\n",
       "Touchscreen         0\n",
       "msoffice            0\n",
       "latest_price        0\n",
       "old_price           0\n",
       "discount            0\n",
       "star_rating         0\n",
       "ratings             0\n",
       "reviews             0\n",
       "dtype: int64"
      ]
     },
     "execution_count": 15,
     "metadata": {},
     "output_type": "execute_result"
    }
   ],
   "source": [
    "#Checking null values\n",
    "#isna is used to check nan values present in data or in particular column\n",
    "\n",
    "df.isna().sum()"
   ]
  },
  {
   "cell_type": "code",
   "execution_count": 16,
   "metadata": {},
   "outputs": [
    {
     "data": {
      "text/plain": [
       "8                503\n",
       "16               239\n",
       "4                102\n",
       "NaN               25\n",
       "32                12\n",
       "15.6               6\n",
       "NVIDIA             2\n",
       "5                  1\n",
       "Dual               1\n",
       "Acer               1\n",
       "Pre-installed      1\n",
       "Full               1\n",
       "Intel              1\n",
       "Access             1\n",
       "Name: ram_gb, dtype: int64"
      ]
     },
     "execution_count": 16,
     "metadata": {},
     "output_type": "execute_result"
    }
   ],
   "source": [
    "df.ram_gb.value_counts(dropna=False)"
   ]
  },
  {
   "cell_type": "markdown",
   "metadata": {},
   "source": [
    "AS NUMBER OF NULL VALUES IS SMALL,WE CAN DROP THE NULL VALUES.\n",
    "ALSO RAM VALUE CAN ONLY BE NUMERICAL VALUE,IT CANNNOT BE 'NVIDIA','Dual','Acer','Pre-installed','Full','Intel','Access','5'. SO WE ARE ALSO DROPPING THE ROWS WHERE RAM_GB = 'NVIDIA','Dual','Acer','Pre-installed','Full','Intel','Access','5'."
   ]
  },
  {
   "cell_type": "code",
   "execution_count": 17,
   "metadata": {},
   "outputs": [],
   "source": [
    "filter = data[data['ram_gb'].isin(['NVIDIA','Dual','Acer','Pre-installed','Full','Intel','Access',np.nan,'5'])]\n",
    "#WE HAVE USED ISIN TO CREATE A NEW DATAFRAME WHERE RAM_GB CONTAINS ONLY THOSE VALUE WHICH WE WANT TO DROP.\n",
    "\n",
    "index_list = filter.index\n",
    "data.drop(index_list,inplace=True)"
   ]
  },
  {
   "cell_type": "markdown",
   "metadata": {},
   "source": [
    "SINCE WE CAN DROP ROWS BY PROVIDING INDEX NUMBER,WE HAVE STORED ALL THE INDEX VALUES IN \"FILTER\" DATAFRAME"
   ]
  },
  {
   "cell_type": "code",
   "execution_count": 18,
   "metadata": {},
   "outputs": [
    {
     "data": {
      "text/plain": [
       "8       503\n",
       "16      239\n",
       "4       102\n",
       "32       12\n",
       "15.6      6\n",
       "Name: ram_gb, dtype: int64"
      ]
     },
     "execution_count": 18,
     "metadata": {},
     "output_type": "execute_result"
    }
   ],
   "source": [
    "data.ram_gb.value_counts(dropna=False)"
   ]
  },
  {
   "cell_type": "markdown",
   "metadata": {},
   "source": [
    "SINCE WE DO NOT HAVE MUCH NAN VALUES,OUR DATA IS CLEAN AND WE MAY MOVE FURTHER TO DO OUR ANALYSIS, BUT BEFORE DOING ANY TYPE OF ANALYSIS WE MUST GET FAMILIAR WITH OUR DATA\n",
    "\n",
    "IN ORDER TO GET TO KNOW OUR DATA WE CAN START WITH-\n",
    "\n",
    "CHECKING OUTLIERS(by using describe(), plotting boxplots etc.),\n",
    "CHECK IF ANY TYPE OF STANDARIDAZTION TO BE USED( we can make 'brand','model' columns small letter in order to make our analysis easy ,but since some companies write there name in capital letters for ex= 'NVIDEA', some in small = 'Acer', we have kept the data as it is, but it is good idea to make all the string values in one format.)\n",
    "BEST WAY TO GET TO KNOW THE DATA IS TO VISUALIZE IT, FOR CATEGORICAL DATA WE MAY USE COUNTPLOT,BAR CHART, FOR CONTINUOUS VARIABLES WE MAY USE BOXPLOTS(USED TO CHECK OUTLIERS), LINE CHART(MAJORLY USED IN TIME SERIES DATA) AND MANY MORE."
   ]
  },
  {
   "cell_type": "code",
   "execution_count": 19,
   "metadata": {},
   "outputs": [
    {
     "name": "stderr",
     "output_type": "stream",
     "text": [
      "/tmp/ipykernel_39/1703867807.py:1: FutureWarning: Dropping of nuisance columns in DataFrame reductions (with 'numeric_only=None') is deprecated; in a future version this will raise TypeError.  Select only valid columns before calling the reduction.\n",
      "  df.sum()\n"
     ]
    },
    {
     "data": {
      "text/plain": [
       "brand              ASUSASUSASUSHPHPLenovoHPASUSDELLLenovoHPHPHPLe...\n",
       "model              CeleronVivoBookVivobookCoreCoreIdeaPad15sCoreV...\n",
       "processor_brand    IntelIntelIntelIntelIntelIntelAMDIntelIntelInt...\n",
       "processor_gnrtn    Missing10th10th11th11th10thMissing11th10th10th...\n",
       "ssd                                                           386848\n",
       "hdd                                                           171008\n",
       "os                 WindowsWindowsWindowsWindowsWindowsWindowsWind...\n",
       "os_bit                                                         53024\n",
       "graphic_card_gb                                                 1074\n",
       "weight             CasualCasualCasualThinNlightThinNlightThinNlig...\n",
       "display_size       15.615.614.115.615.615.615.61415.615.615.615.6...\n",
       "warranty                                                         620\n",
       "Touchscreen        NoNoNoNoNoNoNoNoNoNoNoNoNoNoNoNoNoNoNoNoNoNoNo...\n",
       "msoffice           NoNoNoYesNoYesYesNoYesYesNoNoNoYesYesYesNoYesY...\n",
       "latest_price                                                68373635\n",
       "old_price                                                   78968202\n",
       "discount                                                       16601\n",
       "star_rating                                                   2670.5\n",
       "ratings                                                       329183\n",
       "reviews                                                        41353\n",
       "dtype: object"
      ]
     },
     "execution_count": 19,
     "metadata": {},
     "output_type": "execute_result"
    }
   ],
   "source": [
    "df.sum()"
   ]
  },
  {
   "cell_type": "code",
   "execution_count": 20,
   "metadata": {},
   "outputs": [
    {
     "data": {
      "text/html": [
       "<div>\n",
       "<style scoped>\n",
       "    .dataframe tbody tr th:only-of-type {\n",
       "        vertical-align: middle;\n",
       "    }\n",
       "\n",
       "    .dataframe tbody tr th {\n",
       "        vertical-align: top;\n",
       "    }\n",
       "\n",
       "    .dataframe thead th {\n",
       "        text-align: right;\n",
       "    }\n",
       "</style>\n",
       "<table border=\"1\" class=\"dataframe\">\n",
       "  <thead>\n",
       "    <tr style=\"text-align: right;\">\n",
       "      <th></th>\n",
       "      <th>ssd</th>\n",
       "      <th>hdd</th>\n",
       "      <th>os_bit</th>\n",
       "      <th>graphic_card_gb</th>\n",
       "      <th>warranty</th>\n",
       "      <th>latest_price</th>\n",
       "      <th>old_price</th>\n",
       "      <th>discount</th>\n",
       "      <th>star_rating</th>\n",
       "      <th>ratings</th>\n",
       "      <th>reviews</th>\n",
       "    </tr>\n",
       "  </thead>\n",
       "  <tbody>\n",
       "    <tr>\n",
       "      <th>count</th>\n",
       "      <td>896.000000</td>\n",
       "      <td>896.000000</td>\n",
       "      <td>896.000000</td>\n",
       "      <td>896.000000</td>\n",
       "      <td>896.000000</td>\n",
       "      <td>896.000000</td>\n",
       "      <td>896.000000</td>\n",
       "      <td>896.000000</td>\n",
       "      <td>896.000000</td>\n",
       "      <td>896.000000</td>\n",
       "      <td>896.000000</td>\n",
       "    </tr>\n",
       "    <tr>\n",
       "      <th>mean</th>\n",
       "      <td>431.750000</td>\n",
       "      <td>190.857143</td>\n",
       "      <td>59.178571</td>\n",
       "      <td>1.198661</td>\n",
       "      <td>0.691964</td>\n",
       "      <td>76309.860491</td>\n",
       "      <td>88134.154018</td>\n",
       "      <td>18.527902</td>\n",
       "      <td>2.980469</td>\n",
       "      <td>367.391741</td>\n",
       "      <td>46.152902</td>\n",
       "    </tr>\n",
       "    <tr>\n",
       "      <th>std</th>\n",
       "      <td>316.436824</td>\n",
       "      <td>401.181158</td>\n",
       "      <td>11.453644</td>\n",
       "      <td>2.057454</td>\n",
       "      <td>0.606282</td>\n",
       "      <td>46613.354368</td>\n",
       "      <td>55719.645554</td>\n",
       "      <td>10.508486</td>\n",
       "      <td>1.965254</td>\n",
       "      <td>1106.309355</td>\n",
       "      <td>136.079586</td>\n",
       "    </tr>\n",
       "    <tr>\n",
       "      <th>min</th>\n",
       "      <td>0.000000</td>\n",
       "      <td>0.000000</td>\n",
       "      <td>32.000000</td>\n",
       "      <td>0.000000</td>\n",
       "      <td>0.000000</td>\n",
       "      <td>13990.000000</td>\n",
       "      <td>0.000000</td>\n",
       "      <td>0.000000</td>\n",
       "      <td>0.000000</td>\n",
       "      <td>0.000000</td>\n",
       "      <td>0.000000</td>\n",
       "    </tr>\n",
       "    <tr>\n",
       "      <th>25%</th>\n",
       "      <td>256.000000</td>\n",
       "      <td>0.000000</td>\n",
       "      <td>64.000000</td>\n",
       "      <td>0.000000</td>\n",
       "      <td>0.000000</td>\n",
       "      <td>45490.000000</td>\n",
       "      <td>54940.500000</td>\n",
       "      <td>11.000000</td>\n",
       "      <td>0.000000</td>\n",
       "      <td>0.000000</td>\n",
       "      <td>0.000000</td>\n",
       "    </tr>\n",
       "    <tr>\n",
       "      <th>50%</th>\n",
       "      <td>512.000000</td>\n",
       "      <td>0.000000</td>\n",
       "      <td>64.000000</td>\n",
       "      <td>0.000000</td>\n",
       "      <td>1.000000</td>\n",
       "      <td>63494.000000</td>\n",
       "      <td>78052.500000</td>\n",
       "      <td>19.000000</td>\n",
       "      <td>4.100000</td>\n",
       "      <td>19.000000</td>\n",
       "      <td>3.000000</td>\n",
       "    </tr>\n",
       "    <tr>\n",
       "      <th>75%</th>\n",
       "      <td>512.000000</td>\n",
       "      <td>0.000000</td>\n",
       "      <td>64.000000</td>\n",
       "      <td>2.000000</td>\n",
       "      <td>1.000000</td>\n",
       "      <td>89090.000000</td>\n",
       "      <td>111019.500000</td>\n",
       "      <td>26.000000</td>\n",
       "      <td>4.400000</td>\n",
       "      <td>179.500000</td>\n",
       "      <td>23.250000</td>\n",
       "    </tr>\n",
       "    <tr>\n",
       "      <th>max</th>\n",
       "      <td>3072.000000</td>\n",
       "      <td>2048.000000</td>\n",
       "      <td>64.000000</td>\n",
       "      <td>8.000000</td>\n",
       "      <td>3.000000</td>\n",
       "      <td>441990.000000</td>\n",
       "      <td>377798.000000</td>\n",
       "      <td>57.000000</td>\n",
       "      <td>5.000000</td>\n",
       "      <td>15279.000000</td>\n",
       "      <td>1947.000000</td>\n",
       "    </tr>\n",
       "  </tbody>\n",
       "</table>\n",
       "</div>"
      ],
      "text/plain": [
       "               ssd          hdd      os_bit  graphic_card_gb    warranty  \\\n",
       "count   896.000000   896.000000  896.000000       896.000000  896.000000   \n",
       "mean    431.750000   190.857143   59.178571         1.198661    0.691964   \n",
       "std     316.436824   401.181158   11.453644         2.057454    0.606282   \n",
       "min       0.000000     0.000000   32.000000         0.000000    0.000000   \n",
       "25%     256.000000     0.000000   64.000000         0.000000    0.000000   \n",
       "50%     512.000000     0.000000   64.000000         0.000000    1.000000   \n",
       "75%     512.000000     0.000000   64.000000         2.000000    1.000000   \n",
       "max    3072.000000  2048.000000   64.000000         8.000000    3.000000   \n",
       "\n",
       "        latest_price      old_price    discount  star_rating       ratings  \\\n",
       "count     896.000000     896.000000  896.000000   896.000000    896.000000   \n",
       "mean    76309.860491   88134.154018   18.527902     2.980469    367.391741   \n",
       "std     46613.354368   55719.645554   10.508486     1.965254   1106.309355   \n",
       "min     13990.000000       0.000000    0.000000     0.000000      0.000000   \n",
       "25%     45490.000000   54940.500000   11.000000     0.000000      0.000000   \n",
       "50%     63494.000000   78052.500000   19.000000     4.100000     19.000000   \n",
       "75%     89090.000000  111019.500000   26.000000     4.400000    179.500000   \n",
       "max    441990.000000  377798.000000   57.000000     5.000000  15279.000000   \n",
       "\n",
       "           reviews  \n",
       "count   896.000000  \n",
       "mean     46.152902  \n",
       "std     136.079586  \n",
       "min       0.000000  \n",
       "25%       0.000000  \n",
       "50%       3.000000  \n",
       "75%      23.250000  \n",
       "max    1947.000000  "
      ]
     },
     "execution_count": 20,
     "metadata": {},
     "output_type": "execute_result"
    }
   ],
   "source": [
    "df.describe()"
   ]
  },
  {
   "cell_type": "code",
   "execution_count": 21,
   "metadata": {},
   "outputs": [
    {
     "name": "stdout",
     "output_type": "stream",
     "text": [
      "Unique Values in  brand = ['ASUS' 'HP' 'Lenovo' 'DELL' 'APPLE' 'acer' 'MSI' 'realme' 'RedmiBook'\n",
      " 'Nokia' 'lenovo' 'Infinix' 'Mi' 'ALIENWARE' 'SAMSUNG' 'MICROSOFT' 'LG'\n",
      " 'Vaio' 'Smartron' 'Avita' 'iball']\n",
      "\n",
      "Unique Values in  model = ['Celeron' 'VivoBook' 'Vivobook' 'Core' 'IdeaPad' '15s' 'Vostro' 'Ryzen'\n",
      " 'Pavilion' 'Ideapad' '2020' 'Aspire' 'Inspiron' 'GF63' 'TUF' 'Book(Slim)'\n",
      " '15' 'GF65' 'Book' 'Legion' 'Modern' 'Pro' 'ThinkPad' 'PureBook' 'Swift'\n",
      " 'MacBook' 'Predator' 'ASUS' 'Katana' 'Zenbook' 'Pentium' 'Nitro' 'Pulse'\n",
      " 'Alpha' 'ROG' 'Bravo' 'INBook' 'ZenBook' 'Notebook' 'HP' 'Chromebook'\n",
      " 'Travelmate' '15-ec1105AX' 'Yoga' 'Spectre' 'APU' '2021' 'Thinkbook' 'X1'\n",
      " 'Lenovo' 'Thinkpad' 'Intel' 'G15' 'Envy' 'EeeBook' '3000' 'x360' '3511'\n",
      " 'GE76' 'Asus' 'ThinkBook' 'Delta' 'A6-9225' 'G5' 'INSPIRON' '14s' 'G7'\n",
      " 'Stealth' 'Zephyrus' 'Creator' 'Galaxy' 'Prestige' 'XPS' 'Summit' 'GS66'\n",
      " 'Sword' 'OMEN' 'Surface' 'Gram' 'Extensa' 'ExpertBook' 'Omen' 'SE' 'GP76'\n",
      " 'ConceptD' 'E' 't.book' 'GP65' 'Rog' 'DELL' 'Commercial' 'X390' 'G3'\n",
      " 'B50-70' 'WF65' 'F17' 'Dual' 'Spin' 'Thinpad' 'Inpiron' 'GAMING' 'AMD'\n",
      " 'PURA' 'GS' 'CompBook' 'IDEAPAD' '430' 'Vivo' 'V15' '250-G6' '14a'\n",
      " 'Liber' 'DA' 'Cosmos' 'Athlon' '15q' 'Vivobook14' 'Insprion' '250' 'v15']\n",
      "\n",
      "Unique Values in  processor_brand = ['Intel' 'AMD' 'Apple' 'MediaTek' 'NVIDIA' 'Qualcomm' 'Pre-installed'\n",
      " 'First' '512' 'M.2' '64']\n",
      "\n",
      "Unique Values in  processor_name = ['Celeron Dual' 'Core i3' 'Core i5' 'Ryzen 3' 'Ryzen 5' 'M1 Processor'\n",
      " 'Pentium Silver' 'i5' 'Core i7' 'Hexa Core' nan 'Ryzen 7' 'i7'\n",
      " 'Pentium Quad' '5' 'Ryzen 9' 'Core i9' 'APU Dual' 'Quad' 'M1 Pro'\n",
      " 'M1 Max' 'Core' 'MediaTek Kompanio' 'GeForce GTX' 'A6-9225 Processor'\n",
      " 'GeForce RTX' 'Snapdragon 7c' 'Dual Core' 'Genuine Windows' 'GEFORCE RTX'\n",
      " 'Ever Screenpad' 'GB SSD' 'Athlon Dual' 'Slot for' 'GB eMMC' 'Core m3']\n",
      "\n",
      "Unique Values in  processor_gnrtn = ['Missing' '10th' '11th' '9th' '8th' '7th' '12th' '4th']\n",
      "\n",
      "Unique Values in  ram_gb = ['4' '8' '16' '5' nan '32' '15.6' 'Dual' 'NVIDIA' 'Acer' 'Pre-installed'\n",
      " 'Full' 'Intel' 'Access']\n",
      "\n",
      "Unique Values in  ram_type = ['DDR4' 'DDR5' nan 'LPDDR4X' 'LPDDR4' 'Unified' 'Full' 'LPDDR3' 'DDR3'\n",
      " 'Cooling' 'GTX' 'Master' 'Windows' 'LED' 'i5' 'Apps']\n",
      "\n",
      "Unique Values in  ssd = [   0  512  256 1024 2048  128 3072   32]\n",
      "\n",
      "Unique Values in  hdd = [1024    0  512 2048]\n",
      "\n",
      "Unique Values in  os = ['Windows' 'Mac' 'Missing']\n",
      "\n",
      "Unique Values in  os_bit = [64 32]\n",
      "\n",
      "Unique Values in  graphic_card_gb = [0 4 6 2 8]\n",
      "\n",
      "Unique Values in  weight = ['Casual' 'ThinNlight' 'Gaming']\n",
      "\n",
      "Unique Values in  display_size = ['15.6' '14.1' '14' '13.3' '0' '17.3' '14.96' '15' '14.2' '16.2' '14.9'\n",
      " '13.4' '13' '15.3' '16' '16.1' '13.5' 'All' '12.2' '6th' '8th' '12'\n",
      " 'ITW)']\n",
      "\n",
      "Unique Values in  warranty = [1 0 2 3]\n",
      "\n",
      "Unique Values in  Touchscreen = ['No' 'Yes']\n",
      "\n",
      "Unique Values in  msoffice = ['No' 'Yes']\n",
      "\n",
      "Unique Values in  latest_price = [ 23990  37990  32890  42990  54990  35990  41999  34429  41490  53990\n",
      "  57990  52990  33980  67990  39990  85990  29990  50990  31999  39490\n",
      "  45490  55990  63990  62300  36990  38990  61990  84990  41990  46990\n",
      "  56990  51990  48990  49490  42490  68500  49970  47990  37890  75990\n",
      " 112990  65990 149990  92990  76990  49990  71990  45990  48490  72990\n",
      " 104990  89990 125990  59990  86990 103990 119990 101990  27990  32490\n",
      "  43490  44490  41890  43990 109990 132990  59490  99990  71890  79990\n",
      " 135990  68990  64990  32990 134990  43970  55999  73490  74490  47490\n",
      "  81990  38940  23490  58340 154990  69990  55490 131990  58990  62490\n",
      "  39999  67500  82990  98990  62990  64190  62450  70090 102990  33690\n",
      "  40990  60999 169990  60190  97990  42190 139990 199990  19590  19990\n",
      " 128990  44990  41250 225990 184990 243990  54490 309990  60990  66999\n",
      "  60790 114990  24990  57490  55790  45650  43690  77990  21490 129990\n",
      "  93990  57999  59999  66990  98020  69490  38490  22990 179990  89390\n",
      "  74990  93700  43800  93190  34990  66490  40590  89702  94990  70990\n",
      "  36490  25990  65390 144690  69900  49890 291190  38970  57500  38900\n",
      "  30780  84190  56541  37390  73999  61290  20490 146990  31799  72500\n",
      "  44900  33990  76190  87990  40890  43590 109590 106990  38799 194990\n",
      " 104000 345390  74798 192990 105990  68100  44390 124990 111890 122410\n",
      "  69267  44690  71090  81490  44427  57900  95990  74590 122990  53400\n",
      "  55090 159990  91990  90190  51649 207290  74500 172090  84208  88488\n",
      " 129999 224990  56490  52632  31990 147000  86867  40200 279990 106490\n",
      " 299990 116941 100190  26990 155411 239759  80000  29890  53490 121990\n",
      "  30990 116990 151098  78990 121890  47999 102551  71999  84988  76498\n",
      "  90990  62890  34500  98920 130990 111999  70798 269990  99500 149999\n",
      "  41998  77988 141990 214790  21990  39790  76000 171990 145990  36000\n",
      "  62998 106167  91999  72400  52380 142990  88990  93955 234990 128500\n",
      " 113590  41390  35590  82500  73990  44890  81978 111000  39998  92000\n",
      "  61000 111990 109000  77900  70799  52500 171998  52490  81998  53690\n",
      "  68090  58100  49590 162990 441990  53190  58999  84500 120980  82000\n",
      " 157249 269290  67490  75999 130500 229900  44376  89998 135300 131500\n",
      "  69899 138990  76300  44290  58090  78988  72900 174527 125394  48999\n",
      "  73519  73138 126000 162299 209690  80990 114999  43900 116640  46690\n",
      " 109999 165990  80490 109190  43400  38999  99999  61597  71290 146490\n",
      "  74999 175190  40750 167990  79500 144990  61249  43000  70980  13990\n",
      "  98912  48900 136590 244801  59900  94000 233990 165000  86000  38000\n",
      " 162399  89570  54590  75100 119599  77890  75500  41790 211753  68900\n",
      "  21896  78900  83990 132790  51890  58799  20900  49999  22490  18990\n",
      "  48500  78000  74190  46200  26470 110999  17990  71695  65556  49279\n",
      "  17490  26899  70190  79590  32917  52790 136990  45930  73400  94190\n",
      "  84970  46790  42090  86999  54238  61745  44599  41500  36999  42900\n",
      "  34649  73063  62317 100990  49800 265998  16990  84086  41480  61999\n",
      "  72964  38680  29999  48790  56491  32955  46390  40390  76012]\n",
      "\n",
      "Unique Values in  old_price = [ 26990  50990  46990  57330  70171  57290  48294  49990  54782  57990\n",
      "  46055  70172  74390  50651  78294  50085  92900  38990  89999  80990\n",
      "  49590  38999  43312  60371  72990  83990  81990 101390  69999  44999\n",
      "  51999  70990  88990 123990  49714  63510  59580  84890  52999  54999\n",
      "  83890  68990  97890  66396  50693  89000  78990  55999  90890  59808\n",
      "  75390  61990  60959  52990  51990  59990  93564 122900  60890  82990\n",
      "  67990  78109  90000  62990  75999 163900 130990 106990  79690 115990\n",
      " 116990  74990  64290 105990 112900  54510  78290 129990 142900  58990\n",
      " 117990 146990 117900 140990  33990  39288  50586  74833  62190  61590\n",
      "  89990  94201  59654  57479  60908  99999 139990 149900  89490  50294\n",
      " 145990  92549  95990 183990  99290  49999 164990 119990  65999  50196\n",
      "  90990  40614 110900  66050 110990  85359  64999  61740  75490  76020\n",
      " 119900  53640 131990  48200  55490  29990  74839 207990 107690  58194\n",
      "  60000  69267  89849  86199  59999  61060  75049 104990 125890  56776\n",
      " 153490 136990  85391  89395 139890  37990  43126  85990  68658  40957\n",
      "  64990  93690  51748 183900  49613 199999  55990  66990  58286 114749\n",
      "  44780 179999 259990  54517  21325  23390 137900  46390  46602  36865\n",
      " 239900  52900 194900  76990 259900 115167  55448  57670  77990 329900\n",
      "  86690  79890  79445  85290  78307 162990 138490  73990  30990  78400\n",
      "  60078  56999  55202  48933  25990 187990 123540  70419  81684  97990\n",
      "  96990 103102 118890  49826  87717  77327 149990  89992  60046  89790\n",
      "  75023 107990 175990  48990      0  92552 149999  27990  26663 109353\n",
      "  86990  80284 139000  55506 118776  51544  42999 151557  50132 112671\n",
      "  70286  59239 122990 109696 104890  53790  40108  76436 173453  55890\n",
      "  87320  63790  40990  69990 330990  56590  86720  66161 128990  97946\n",
      "  65566  36990 109566  50149 120708  88840  73774  24990 114751  66470\n",
      " 223322  55534 112608 188990  36999  80900  32790  67861  51000 128665\n",
      "  39990  80996  45990  59781 132990  63179 101990  69736 159180  80366\n",
      " 227250  47916 377798  53900  74066 223890  47990  80711  78900  76143\n",
      "  45514  56573 154446  88037  60122 216368 137000  49000 139999 156990\n",
      "  98990 109990  62511 167890  87168  69500  67931 160190 107262 235990\n",
      " 115729  47264  68859  34990 174900 179900  96995 134990 272990 155720\n",
      " 186348  57240 142990 126990  51165  65438  93565  99240 313990 138366\n",
      " 113290 376990 181990 104999  28990  77487  56800  54723  83085  56990\n",
      "  65000 104000  46138 138399 132717 132900 224490 124078 139104  42990\n",
      "  99990  56743  72246 111890 103215  84690 124999 101681 181890 106000\n",
      " 137990 146194 201990 179990 170990 101090  51105  84990 326990 119999\n",
      " 178464  77996  76090 117290 163739 237937  43296  87999 197862  67551\n",
      "  73625  99203  66560 166990  88519  43000  98200 120990 114000 122803\n",
      "  58500 155990  75800  90605 122300 125888  99000 324990  57863 152042\n",
      " 120000  51976  71578 123090 104033  60090 113019  68192 130000  45892\n",
      "  68000  79999 194990  76915 128000  82300  89564 237890  82999 158990\n",
      "  62594  75879  82799 189990 105000  49800  86000  42787 220990 293080\n",
      "  82600 272000  45376 192977  32990 124900 101525 135553  62549 175000\n",
      "  73899  68900 117587 210990  57858  99067 114690  74900  92600 146680\n",
      " 350990  57095  88400 112990 172990 178999 209990  33490 138166  94600\n",
      " 202990 117490 148082  88600 118898 119442 155436  48900  42705 169990\n",
      " 102500  95136  75500 152490  43090  45810  99433 107786  46629  76094\n",
      "  19999  50000 151133  49821  62200  98000  62290 198825  94890  88532\n",
      "  93489  57331 206997  50250 111529 141990  44990  80000 195000 110890\n",
      "  93461  54784  92000  85000 214760  78999  84900  72000  83557  58657\n",
      "  51493  22825  59000  24845  22990  58493  83417  68270  31532  40490\n",
      "  21990  75732  79990  23490 144990  83390  27668 148158  90783 106082\n",
      " 160134 157563  58229 108590  65853 349890  64923  50190  56771  86352\n",
      " 109000 111108 102987  45000  55351 121608  41990 113000  83458  65546\n",
      "  40000  24840  43990  68999  73199  34890  27000  37400  36923  54786\n",
      "  51574  59101  54992  43999]\n",
      "\n",
      "Unique Values in  discount = [11 25 30 21 37 13 31 24 34 23 17 28 27 20  7 43  8 29 38 14 26 32 41 36\n",
      " 16 22 19 18 35 15 46 40 33  9 12  5 39  1  2 10  0  3  6 47 48 57 56  4]\n",
      "\n",
      "Unique Values in  star_rating = [3.8 4.3 3.9 4.4 4.2 4.  4.1 5.  4.5 4.7 4.6 0.  4.8 4.9 3.6 2.5 3.7 3.3\n",
      " 3.  1.7 3.5 3.4 1.6 2.7 2.8 2.3 2.  3.2 3.1 2.9]\n",
      "\n",
      "Unique Values in  ratings = [15279   990    28   158   116  2124  3524    37     7  2080   206  2214\n",
      "  4740   300  1479    59    67   108   273  6725    36 10966    76   681\n",
      "   286  1267   207  2582   794  3712  2886   825  3470    11  1063  1188\n",
      "   498    34    23    14   939     0  6352   130   162    85   219    56\n",
      "    31   276  3190    18   271   193   365    30   562    45   284    44\n",
      "  1708  1084   640    33    10     6    17  1119   174   155   214    22\n",
      "    91    35   368   126    74    49    75   298    32    39   124    40\n",
      "   399   816  1597   218   809   342    58   137    47    13   163   543\n",
      "  3850     9   844   184  1946    53    78    92  1296   198     3   204\n",
      "   484   469  1221   272   571  1178     5   213    27     2   299  1978\n",
      "   141    20  2551   758   634   632    69   194     8  1049    93   157\n",
      "     4   196   262   474    77   445   144   172    79   170    62    38\n",
      "    24  7291    52   153   649   118   245   250  1917  1894  2887  2058\n",
      "   117    42  1681  1753   216   343   131    61   861    57  1810   724\n",
      "    26   324   502    41   253   328  4999   202   818  1625    86    25\n",
      "    21    29    16   974   187   104    43  1067    19  1336  4623   353\n",
      "   259   106    48   282   127   470    90  4741  2736   383   984   241\n",
      "  4203   677    15    46   637    12   523    63   183  1029   358   527\n",
      "  1541    72   103    88   337   267   898   138   199   364  1444  3227\n",
      "   530   814     1  1605   409   125   425   313   826   465   714    97\n",
      "   181  1410  4008   139   529    54  1869   105   715   102   739  1881\n",
      "   145    68   545  1480  5205  1114  1124  2038   179    98   741   700\n",
      "  1146  1850  1090   762    73   191   195   165  1657   231    65   114\n",
      "   268  1096  1218  1278  4428   120  1153   698   349    70   208   134\n",
      "   519   265  1185   197   232    84  1180   596  1120   143  3062    71\n",
      "   122   512   377  1365  1639   414   311    95    83   129]\n",
      "\n",
      "Unique Values in  reviews = [1947  108    4   18   15  233  432    6    5  235   17  241  532   24\n",
      "  181   12    3   30  629 1185    9   59   19  171   16  272   83  412\n",
      "  375   95  505    2  152  127   64    0  107 1014   27    7   40  414\n",
      "   28   35   89   39  242  123   70    1   20   37   36   48   13   10\n",
      "   49   45  147  228   91   54   33   65  378  103   29  240  126   56\n",
      "   80  265  137   41  188  297   92   42  134   31   14   26  895   21\n",
      "   84   34  189  256  476  305   11    8  227  165   47  116   93   51\n",
      "  160  490  113  170  145  186  553   46  658  350   99   87   66  128\n",
      "   52  118  179  693   69  112  215   67  203  519  234  106   71   74\n",
      "  151  561  100  313  144  175  216   96  104   25   23  209  135  569\n",
      "  159   57   22  141  148  196   58  109  325   85   53  230]\n",
      "\n"
     ]
    }
   ],
   "source": [
    "for values in df.columns:\n",
    "    print('Unique Values in  {0} = {1}\\n'.format(values, df[values].unique()))"
   ]
  },
  {
   "cell_type": "code",
   "execution_count": 22,
   "metadata": {},
   "outputs": [
    {
     "data": {
      "text/plain": [
       "ASUS         254\n",
       "DELL         154\n",
       "Lenovo       148\n",
       "HP           142\n",
       "acer          58\n",
       "MSI           52\n",
       "APPLE         28\n",
       "Avita         18\n",
       "LG             5\n",
       "Vaio           5\n",
       "realme         4\n",
       "Nokia          4\n",
       "Infinix        4\n",
       "ALIENWARE      4\n",
       "Smartron       3\n",
       "lenovo         3\n",
       "MICROSOFT      3\n",
       "RedmiBook      3\n",
       "Mi             2\n",
       "SAMSUNG        1\n",
       "iball          1\n",
       "Name: brand, dtype: int64"
      ]
     },
     "execution_count": 22,
     "metadata": {},
     "output_type": "execute_result"
    }
   ],
   "source": [
    "#value_counts() is one of the most frequently used to get to know count of any particular category\n",
    "df.brand.value_counts()"
   ]
  },
  {
   "cell_type": "code",
   "execution_count": 23,
   "metadata": {},
   "outputs": [],
   "source": [
    "import jovian"
   ]
  },
  {
   "cell_type": "code",
   "execution_count": 24,
   "metadata": {},
   "outputs": [
    {
     "data": {
      "application/javascript": [
       "window.require && require([\"base/js/namespace\"],function(Jupyter){Jupyter.notebook.save_checkpoint()})"
      ],
      "text/plain": [
       "<IPython.core.display.Javascript object>"
      ]
     },
     "metadata": {},
     "output_type": "display_data"
    },
    {
     "name": "stdout",
     "output_type": "stream",
     "text": [
      "[jovian] Updating notebook \"aanchalkanoria902/laptop-data-analysis\" on https://jovian.ai\u001b[0m\n",
      "[jovian] Committed successfully! https://jovian.ai/aanchalkanoria902/laptop-data-analysis\u001b[0m\n"
     ]
    },
    {
     "data": {
      "text/plain": [
       "'https://jovian.ai/aanchalkanoria902/laptop-data-analysis'"
      ]
     },
     "execution_count": 24,
     "metadata": {},
     "output_type": "execute_result"
    }
   ],
   "source": [
    "jovian.commit(project=\"Laptop Data Analysis\")"
   ]
  },
  {
   "cell_type": "markdown",
   "metadata": {},
   "source": [
    "## Exploratory Analysis and Visualization\n",
    "\n",
    "Let's explore the data and visualise. "
   ]
  },
  {
   "cell_type": "markdown",
   "metadata": {},
   "source": [
    "Let's begin by importing`matplotlib.pyplot` and `seaborn`."
   ]
  },
  {
   "cell_type": "code",
   "execution_count": 25,
   "metadata": {},
   "outputs": [],
   "source": [
    "import seaborn as sns\n",
    "import matplotlib\n",
    "import matplotlib.pyplot as plt\n",
    "%matplotlib inline\n",
    "\n",
    "sns.set_style('darkgrid')\n",
    "matplotlib.rcParams['font.size'] = 14\n",
    "matplotlib.rcParams['figure.figsize'] = (9, 5)\n",
    "matplotlib.rcParams['figure.facecolor'] = '#00000000'"
   ]
  },
  {
   "cell_type": "markdown",
   "metadata": {},
   "source": [
    "A horizontal bar diagram depicting count of each laptop brand that was sold.  "
   ]
  },
  {
   "cell_type": "code",
   "execution_count": 26,
   "metadata": {},
   "outputs": [
    {
     "data": {
      "image/png": "[encoded data removed]",
      "text/plain": [
       "<Figure size 1296x576 with 1 Axes>"
      ]
     },
     "metadata": {
      "needs_background": "light"
     },
     "output_type": "display_data"
    }
   ],
   "source": [
    "plt.figure(figsize=(18,8))            \n",
    "sns.countplot(data=data,x='brand',order = data.brand.value_counts(ascending=False).index)\n",
    "plt.tick_params(labelrotation=45)"
   ]
  },
  {
   "cell_type": "markdown",
   "metadata": {},
   "source": [
    "countplot() method is used to Show the counts of observations in each categorical bin using bars."
   ]
  },
  {
   "cell_type": "code",
   "execution_count": 27,
   "metadata": {},
   "outputs": [
    {
     "data": {
      "text/plain": [
       "<AxesSubplot:xlabel='ram_gb', ylabel='count'>"
      ]
     },
     "execution_count": 27,
     "metadata": {},
     "output_type": "execute_result"
    },
    {
     "data": {
      "image/png": "[encoded data removed]",
      "text/plain": [
       "<Figure size 648x360 with 1 Axes>"
      ]
     },
     "metadata": {
      "needs_background": "light"
     },
     "output_type": "display_data"
    }
   ],
   "source": [
    "sns.countplot(data=data,x='ram_gb')"
   ]
  },
  {
   "cell_type": "markdown",
   "metadata": {},
   "source": [
    "RAM value can only be numerical, so we had dropped the null values and made a chart with the other given data. "
   ]
  },
  {
   "cell_type": "markdown",
   "metadata": {},
   "source": [
    "A horizontal bar diagram showing counts of first five models. "
   ]
  },
  {
   "cell_type": "code",
   "execution_count": 28,
   "metadata": {},
   "outputs": [
    {
     "data": {
      "text/plain": [
       "<AxesSubplot:>"
      ]
     },
     "execution_count": 28,
     "metadata": {},
     "output_type": "execute_result"
    },
    {
     "data": {
      "image/png": "[encoded data removed]",
      "text/plain": [
       "<Figure size 648x360 with 1 Axes>"
      ]
     },
     "metadata": {
      "needs_background": "light"
     },
     "output_type": "display_data"
    }
   ],
   "source": [
    "a=df.model.value_counts().head()\n",
    "a.plot.barh()"
   ]
  },
  {
   "cell_type": "markdown",
   "metadata": {},
   "source": [
    "Let's combine the model and brand so that we know the model is of which brand."
   ]
  },
  {
   "cell_type": "code",
   "execution_count": 29,
   "metadata": {},
   "outputs": [
    {
     "data": {
      "text/plain": [
       "0       ASUS--Celeron\n",
       "1      ASUS--VivoBook\n",
       "2      ASUS--Vivobook\n",
       "3            HP--Core\n",
       "4            HP--Core\n",
       "            ...      \n",
       "891        DELL--Core\n",
       "892        DELL--Core\n",
       "893      HP--Pavilion\n",
       "894    ASUS--Vivobook\n",
       "895       Lenovo--v15\n",
       "Name: model, Length: 896, dtype: object"
      ]
     },
     "execution_count": 29,
     "metadata": {},
     "output_type": "execute_result"
    }
   ],
   "source": [
    "df.model = df.brand + \"--\" + df.model\n",
    "df.model.astype(\"str\")"
   ]
  },
  {
   "cell_type": "code",
   "execution_count": 30,
   "metadata": {},
   "outputs": [
    {
     "data": {
      "text/plain": [
       "<AxesSubplot:>"
      ]
     },
     "execution_count": 30,
     "metadata": {},
     "output_type": "execute_result"
    },
    {
     "data": {
      "image/png": "[encoded data removed]",
      "text/plain": [
       "<Figure size 648x360 with 1 Axes>"
      ]
     },
     "metadata": {
      "needs_background": "light"
     },
     "output_type": "display_data"
    }
   ],
   "source": [
    "#Top 10 laptop models \n",
    "df.brand.value_counts().head(10).plot.barh()"
   ]
  },
  {
   "cell_type": "markdown",
   "metadata": {},
   "source": [
    "Boxplot is a dense display that aims to provide lots of context for any given data set. The whiskers show the range of values in the data set and box shows the median, lower, and upper quartiles. "
   ]
  },
  {
   "cell_type": "code",
   "execution_count": 31,
   "metadata": {},
   "outputs": [
    {
     "data": {
      "text/plain": [
       "Index(['brand', 'model', 'processor_brand', 'processor_name',\n",
       "       'processor_gnrtn', 'ram_gb', 'ram_type', 'ssd', 'hdd', 'os', 'os_bit',\n",
       "       'graphic_card_gb', 'weight', 'display_size', 'warranty', 'Touchscreen',\n",
       "       'msoffice', 'latest_price', 'old_price', 'discount', 'star_rating',\n",
       "       'ratings', 'reviews'],\n",
       "      dtype='object')"
      ]
     },
     "execution_count": 31,
     "metadata": {},
     "output_type": "execute_result"
    }
   ],
   "source": [
    "data.columns"
   ]
  },
  {
   "cell_type": "code",
   "execution_count": 32,
   "metadata": {},
   "outputs": [],
   "source": [
    "cols = ['brand','ram_gb','processor_brand','processor_name']"
   ]
  },
  {
   "cell_type": "markdown",
   "metadata": {},
   "source": [
    "IN PREVIOUS CELLS WE HAVE ANALYSE ONE FEATURE AT A TIME, BUT IT MAY BE TIRESOME PROCESS TO PLOT SO MANY FEATURES ONE BY ONE\n",
    "SO FOR PLOTTING ALL THE PLOTS AT ONE TIME,WE HAVE SOMETHING CALLED \"SUBPLOTS\" IN MATPLOTLIB"
   ]
  },
  {
   "cell_type": "code",
   "execution_count": 33,
   "metadata": {},
   "outputs": [
    {
     "data": {
      "image/png": "[encoded data removed]",
      "text/plain": [
       "<Figure size 1224x720 with 4 Axes>"
      ]
     },
     "metadata": {
      "needs_background": "light"
     },
     "output_type": "display_data"
    }
   ],
   "source": [
    "fig, axes = plt.subplots(2,2,figsize=(17,10))   # Necessary step to specify number of axes and figure \n",
    "#size( here axes refers to individual plots in whole figure,since we are plotting 4 plots, so we mention (2,2))\n",
    "\n",
    "colors= ['b','g','r','c']   # different colors for each feature\n",
    "for i,ax in zip(range(len(cols)),axes.ravel()):   #zip combines iterators(we can pass as many iterators as we want(here we have two 1.for iterating through columns and colors 2. for axes.ravel())\n",
    "    data[cols[i]].value_counts().head(10).plot.barh(ax=ax,title= cols[i],color = colors[i])"
   ]
  },
  {
   "cell_type": "code",
   "execution_count": 34,
   "metadata": {},
   "outputs": [
    {
     "data": {
      "text/plain": [
       "<AxesSubplot:xlabel='latest_price'>"
      ]
     },
     "execution_count": 34,
     "metadata": {},
     "output_type": "execute_result"
    },
    {
     "data": {
      "image/png": "[encoded data removed]",
      "text/plain": [
       "<Figure size 648x360 with 1 Axes>"
      ]
     },
     "metadata": {
      "needs_background": "light"
     },
     "output_type": "display_data"
    }
   ],
   "source": [
    "sns.boxplot(data=df,x='latest_price')"
   ]
  },
  {
   "cell_type": "markdown",
   "metadata": {},
   "source": [
    "Let us save and upload our work to Jovian before continuing"
   ]
  },
  {
   "cell_type": "code",
   "execution_count": 35,
   "metadata": {},
   "outputs": [],
   "source": [
    "import jovian"
   ]
  },
  {
   "cell_type": "code",
   "execution_count": 36,
   "metadata": {},
   "outputs": [
    {
     "data": {
      "application/javascript": [
       "window.require && require([\"base/js/namespace\"],function(Jupyter){Jupyter.notebook.save_checkpoint()})"
      ],
      "text/plain": [
       "<IPython.core.display.Javascript object>"
      ]
     },
     "metadata": {},
     "output_type": "display_data"
    },
    {
     "name": "stdout",
     "output_type": "stream",
     "text": [
      "[jovian] Updating notebook \"aanchalkanoria902/laptop-data-analysis\" on https://jovian.ai\u001b[0m\n",
      "[jovian] Committed successfully! https://jovian.ai/aanchalkanoria902/laptop-data-analysis\u001b[0m\n"
     ]
    },
    {
     "data": {
      "text/plain": [
       "'https://jovian.ai/aanchalkanoria902/laptop-data-analysis'"
      ]
     },
     "execution_count": 36,
     "metadata": {},
     "output_type": "execute_result"
    }
   ],
   "source": [
    "jovian.commit()"
   ]
  },
  {
   "cell_type": "markdown",
   "metadata": {},
   "source": [
    "WE ARE ASSUMING 'STAR_RATING' AS TARGET."
   ]
  },
  {
   "cell_type": "code",
   "execution_count": 37,
   "metadata": {},
   "outputs": [
    {
     "data": {
      "text/plain": [
       "count    862.000000\n",
       "mean       2.953944\n",
       "std        1.972989\n",
       "min        0.000000\n",
       "25%        0.000000\n",
       "50%        4.100000\n",
       "75%        4.400000\n",
       "max        5.000000\n",
       "Name: star_rating, dtype: float64"
      ]
     },
     "execution_count": 37,
     "metadata": {},
     "output_type": "execute_result"
    }
   ],
   "source": [
    "data['star_rating'].describe()"
   ]
  },
  {
   "cell_type": "code",
   "execution_count": 38,
   "metadata": {},
   "outputs": [
    {
     "data": {
      "text/plain": [
       "0.0    259\n",
       "4.4     91\n",
       "4.3     82\n",
       "4.5     63\n",
       "4.2     61\n",
       "4.1     36\n",
       "4.7     35\n",
       "4.0     34\n",
       "4.6     34\n",
       "3.8     29\n",
       "3.9     24\n",
       "4.8     23\n",
       "3.7     16\n",
       "5.0     16\n",
       "3.4     10\n",
       "3.6      9\n",
       "3.3      8\n",
       "3.5      7\n",
       "3.0      6\n",
       "4.9      4\n",
       "2.8      3\n",
       "3.2      3\n",
       "2.5      2\n",
       "3.1      2\n",
       "1.7      1\n",
       "2.7      1\n",
       "2.3      1\n",
       "2.0      1\n",
       "2.9      1\n",
       "Name: star_rating, dtype: int64"
      ]
     },
     "execution_count": 38,
     "metadata": {},
     "output_type": "execute_result"
    }
   ],
   "source": [
    "data['star_rating'].value_counts()  "
   ]
  },
  {
   "cell_type": "markdown",
   "metadata": {},
   "source": [
    "We have 259 laptops rating with 0 rating."
   ]
  },
  {
   "cell_type": "code",
   "execution_count": 39,
   "metadata": {},
   "outputs": [
    {
     "data": {
      "text/html": [
       "<div>\n",
       "<style scoped>\n",
       "    .dataframe tbody tr th:only-of-type {\n",
       "        vertical-align: middle;\n",
       "    }\n",
       "\n",
       "    .dataframe tbody tr th {\n",
       "        vertical-align: top;\n",
       "    }\n",
       "\n",
       "    .dataframe thead th {\n",
       "        text-align: right;\n",
       "    }\n",
       "</style>\n",
       "<table border=\"1\" class=\"dataframe\">\n",
       "  <thead>\n",
       "    <tr style=\"text-align: right;\">\n",
       "      <th></th>\n",
       "      <th>brand</th>\n",
       "      <th>model</th>\n",
       "      <th>processor_brand</th>\n",
       "      <th>processor_name</th>\n",
       "      <th>processor_gnrtn</th>\n",
       "      <th>ram_gb</th>\n",
       "      <th>ram_type</th>\n",
       "      <th>ssd</th>\n",
       "      <th>hdd</th>\n",
       "      <th>os</th>\n",
       "      <th>...</th>\n",
       "      <th>display_size</th>\n",
       "      <th>warranty</th>\n",
       "      <th>Touchscreen</th>\n",
       "      <th>msoffice</th>\n",
       "      <th>latest_price</th>\n",
       "      <th>old_price</th>\n",
       "      <th>discount</th>\n",
       "      <th>star_rating</th>\n",
       "      <th>ratings</th>\n",
       "      <th>reviews</th>\n",
       "    </tr>\n",
       "  </thead>\n",
       "  <tbody>\n",
       "    <tr>\n",
       "      <th>42</th>\n",
       "      <td>Lenovo</td>\n",
       "      <td>Core</td>\n",
       "      <td>Intel</td>\n",
       "      <td>Core i5</td>\n",
       "      <td>11th</td>\n",
       "      <td>8</td>\n",
       "      <td>DDR4</td>\n",
       "      <td>512</td>\n",
       "      <td>0</td>\n",
       "      <td>Windows</td>\n",
       "      <td>...</td>\n",
       "      <td>15.6</td>\n",
       "      <td>1</td>\n",
       "      <td>No</td>\n",
       "      <td>No</td>\n",
       "      <td>52990</td>\n",
       "      <td>84890</td>\n",
       "      <td>37</td>\n",
       "      <td>0.0</td>\n",
       "      <td>0</td>\n",
       "      <td>0</td>\n",
       "    </tr>\n",
       "    <tr>\n",
       "      <th>43</th>\n",
       "      <td>acer</td>\n",
       "      <td>Aspire</td>\n",
       "      <td>Intel</td>\n",
       "      <td>Core i3</td>\n",
       "      <td>11th</td>\n",
       "      <td>8</td>\n",
       "      <td>DDR4</td>\n",
       "      <td>256</td>\n",
       "      <td>0</td>\n",
       "      <td>Windows</td>\n",
       "      <td>...</td>\n",
       "      <td>15.6</td>\n",
       "      <td>1</td>\n",
       "      <td>No</td>\n",
       "      <td>No</td>\n",
       "      <td>38990</td>\n",
       "      <td>52999</td>\n",
       "      <td>26</td>\n",
       "      <td>0.0</td>\n",
       "      <td>0</td>\n",
       "      <td>0</td>\n",
       "    </tr>\n",
       "    <tr>\n",
       "      <th>77</th>\n",
       "      <td>Lenovo</td>\n",
       "      <td>IdeaPad</td>\n",
       "      <td>Intel</td>\n",
       "      <td>Core i5</td>\n",
       "      <td>10th</td>\n",
       "      <td>8</td>\n",
       "      <td>DDR4</td>\n",
       "      <td>512</td>\n",
       "      <td>0</td>\n",
       "      <td>Windows</td>\n",
       "      <td>...</td>\n",
       "      <td>15.6</td>\n",
       "      <td>1</td>\n",
       "      <td>No</td>\n",
       "      <td>No</td>\n",
       "      <td>49990</td>\n",
       "      <td>79690</td>\n",
       "      <td>37</td>\n",
       "      <td>0.0</td>\n",
       "      <td>0</td>\n",
       "      <td>0</td>\n",
       "    </tr>\n",
       "    <tr>\n",
       "      <th>90</th>\n",
       "      <td>ASUS</td>\n",
       "      <td>VivoBook</td>\n",
       "      <td>Intel</td>\n",
       "      <td>Core i5</td>\n",
       "      <td>11th</td>\n",
       "      <td>8</td>\n",
       "      <td>DDR4</td>\n",
       "      <td>256</td>\n",
       "      <td>1024</td>\n",
       "      <td>Windows</td>\n",
       "      <td>...</td>\n",
       "      <td>15.6</td>\n",
       "      <td>1</td>\n",
       "      <td>No</td>\n",
       "      <td>No</td>\n",
       "      <td>52990</td>\n",
       "      <td>72990</td>\n",
       "      <td>27</td>\n",
       "      <td>0.0</td>\n",
       "      <td>0</td>\n",
       "      <td>0</td>\n",
       "    </tr>\n",
       "    <tr>\n",
       "      <th>99</th>\n",
       "      <td>ASUS</td>\n",
       "      <td>Zenbook</td>\n",
       "      <td>Intel</td>\n",
       "      <td>Core i7</td>\n",
       "      <td>11th</td>\n",
       "      <td>16</td>\n",
       "      <td>LPDDR4X</td>\n",
       "      <td>1024</td>\n",
       "      <td>0</td>\n",
       "      <td>Windows</td>\n",
       "      <td>...</td>\n",
       "      <td>14</td>\n",
       "      <td>1</td>\n",
       "      <td>Yes</td>\n",
       "      <td>Yes</td>\n",
       "      <td>104990</td>\n",
       "      <td>146990</td>\n",
       "      <td>28</td>\n",
       "      <td>0.0</td>\n",
       "      <td>0</td>\n",
       "      <td>0</td>\n",
       "    </tr>\n",
       "    <tr>\n",
       "      <th>...</th>\n",
       "      <td>...</td>\n",
       "      <td>...</td>\n",
       "      <td>...</td>\n",
       "      <td>...</td>\n",
       "      <td>...</td>\n",
       "      <td>...</td>\n",
       "      <td>...</td>\n",
       "      <td>...</td>\n",
       "      <td>...</td>\n",
       "      <td>...</td>\n",
       "      <td>...</td>\n",
       "      <td>...</td>\n",
       "      <td>...</td>\n",
       "      <td>...</td>\n",
       "      <td>...</td>\n",
       "      <td>...</td>\n",
       "      <td>...</td>\n",
       "      <td>...</td>\n",
       "      <td>...</td>\n",
       "      <td>...</td>\n",
       "      <td>...</td>\n",
       "    </tr>\n",
       "    <tr>\n",
       "      <th>875</th>\n",
       "      <td>Avita</td>\n",
       "      <td>Liber</td>\n",
       "      <td>Intel</td>\n",
       "      <td>Core i7</td>\n",
       "      <td>8th</td>\n",
       "      <td>8</td>\n",
       "      <td>DDR4</td>\n",
       "      <td>256</td>\n",
       "      <td>0</td>\n",
       "      <td>Windows</td>\n",
       "      <td>...</td>\n",
       "      <td>14</td>\n",
       "      <td>0</td>\n",
       "      <td>No</td>\n",
       "      <td>No</td>\n",
       "      <td>73990</td>\n",
       "      <td>79990</td>\n",
       "      <td>7</td>\n",
       "      <td>0.0</td>\n",
       "      <td>0</td>\n",
       "      <td>0</td>\n",
       "    </tr>\n",
       "    <tr>\n",
       "      <th>876</th>\n",
       "      <td>Avita</td>\n",
       "      <td>Liber</td>\n",
       "      <td>Intel</td>\n",
       "      <td>Core i7</td>\n",
       "      <td>8th</td>\n",
       "      <td>8</td>\n",
       "      <td>DDR4</td>\n",
       "      <td>256</td>\n",
       "      <td>0</td>\n",
       "      <td>Windows</td>\n",
       "      <td>...</td>\n",
       "      <td>14</td>\n",
       "      <td>0</td>\n",
       "      <td>No</td>\n",
       "      <td>No</td>\n",
       "      <td>73990</td>\n",
       "      <td>79990</td>\n",
       "      <td>7</td>\n",
       "      <td>0.0</td>\n",
       "      <td>0</td>\n",
       "      <td>0</td>\n",
       "    </tr>\n",
       "    <tr>\n",
       "      <th>877</th>\n",
       "      <td>Avita</td>\n",
       "      <td>Liber</td>\n",
       "      <td>Intel</td>\n",
       "      <td>Core i7</td>\n",
       "      <td>8th</td>\n",
       "      <td>8</td>\n",
       "      <td>DDR4</td>\n",
       "      <td>256</td>\n",
       "      <td>0</td>\n",
       "      <td>Windows</td>\n",
       "      <td>...</td>\n",
       "      <td>14</td>\n",
       "      <td>0</td>\n",
       "      <td>No</td>\n",
       "      <td>No</td>\n",
       "      <td>73990</td>\n",
       "      <td>79990</td>\n",
       "      <td>7</td>\n",
       "      <td>0.0</td>\n",
       "      <td>0</td>\n",
       "      <td>0</td>\n",
       "    </tr>\n",
       "    <tr>\n",
       "      <th>878</th>\n",
       "      <td>Avita</td>\n",
       "      <td>Liber</td>\n",
       "      <td>Intel</td>\n",
       "      <td>Core i7</td>\n",
       "      <td>8th</td>\n",
       "      <td>8</td>\n",
       "      <td>DDR4</td>\n",
       "      <td>256</td>\n",
       "      <td>0</td>\n",
       "      <td>Windows</td>\n",
       "      <td>...</td>\n",
       "      <td>14</td>\n",
       "      <td>0</td>\n",
       "      <td>No</td>\n",
       "      <td>No</td>\n",
       "      <td>73990</td>\n",
       "      <td>79990</td>\n",
       "      <td>7</td>\n",
       "      <td>0.0</td>\n",
       "      <td>0</td>\n",
       "      <td>0</td>\n",
       "    </tr>\n",
       "    <tr>\n",
       "      <th>880</th>\n",
       "      <td>Avita</td>\n",
       "      <td>Liber</td>\n",
       "      <td>Intel</td>\n",
       "      <td>Core i7</td>\n",
       "      <td>8th</td>\n",
       "      <td>8</td>\n",
       "      <td>DDR4</td>\n",
       "      <td>256</td>\n",
       "      <td>0</td>\n",
       "      <td>Windows</td>\n",
       "      <td>...</td>\n",
       "      <td>14</td>\n",
       "      <td>0</td>\n",
       "      <td>No</td>\n",
       "      <td>No</td>\n",
       "      <td>73990</td>\n",
       "      <td>79990</td>\n",
       "      <td>7</td>\n",
       "      <td>0.0</td>\n",
       "      <td>0</td>\n",
       "      <td>0</td>\n",
       "    </tr>\n",
       "  </tbody>\n",
       "</table>\n",
       "<p>259 rows × 23 columns</p>\n",
       "</div>"
      ],
      "text/plain": [
       "      brand     model processor_brand processor_name processor_gnrtn ram_gb  \\\n",
       "42   Lenovo      Core           Intel        Core i5            11th      8   \n",
       "43     acer    Aspire           Intel        Core i3            11th      8   \n",
       "77   Lenovo   IdeaPad           Intel        Core i5            10th      8   \n",
       "90     ASUS  VivoBook           Intel        Core i5            11th      8   \n",
       "99     ASUS   Zenbook           Intel        Core i7            11th     16   \n",
       "..      ...       ...             ...            ...             ...    ...   \n",
       "875   Avita     Liber           Intel        Core i7             8th      8   \n",
       "876   Avita     Liber           Intel        Core i7             8th      8   \n",
       "877   Avita     Liber           Intel        Core i7             8th      8   \n",
       "878   Avita     Liber           Intel        Core i7             8th      8   \n",
       "880   Avita     Liber           Intel        Core i7             8th      8   \n",
       "\n",
       "    ram_type   ssd   hdd       os  ...  display_size  warranty Touchscreen  \\\n",
       "42      DDR4   512     0  Windows  ...          15.6         1          No   \n",
       "43      DDR4   256     0  Windows  ...          15.6         1          No   \n",
       "77      DDR4   512     0  Windows  ...          15.6         1          No   \n",
       "90      DDR4   256  1024  Windows  ...          15.6         1          No   \n",
       "99   LPDDR4X  1024     0  Windows  ...            14         1         Yes   \n",
       "..       ...   ...   ...      ...  ...           ...       ...         ...   \n",
       "875     DDR4   256     0  Windows  ...            14         0          No   \n",
       "876     DDR4   256     0  Windows  ...            14         0          No   \n",
       "877     DDR4   256     0  Windows  ...            14         0          No   \n",
       "878     DDR4   256     0  Windows  ...            14         0          No   \n",
       "880     DDR4   256     0  Windows  ...            14         0          No   \n",
       "\n",
       "    msoffice  latest_price old_price discount  star_rating  ratings  reviews  \n",
       "42        No         52990     84890       37          0.0        0        0  \n",
       "43        No         38990     52999       26          0.0        0        0  \n",
       "77        No         49990     79690       37          0.0        0        0  \n",
       "90        No         52990     72990       27          0.0        0        0  \n",
       "99       Yes        104990    146990       28          0.0        0        0  \n",
       "..       ...           ...       ...      ...          ...      ...      ...  \n",
       "875       No         73990     79990        7          0.0        0        0  \n",
       "876       No         73990     79990        7          0.0        0        0  \n",
       "877       No         73990     79990        7          0.0        0        0  \n",
       "878       No         73990     79990        7          0.0        0        0  \n",
       "880       No         73990     79990        7          0.0        0        0  \n",
       "\n",
       "[259 rows x 23 columns]"
      ]
     },
     "execution_count": 39,
     "metadata": {},
     "output_type": "execute_result"
    }
   ],
   "source": [
    "data[data['star_rating'] == 0]"
   ]
  },
  {
   "cell_type": "markdown",
   "metadata": {},
   "source": [
    "LAPTOPS HAVING STAR_RATINGS== 0 HAS 0 VALUE IN 'ratings' AND 'reviews' COLUMNS, SO WE CANT SAY THE STAR_RATIING ==0 IS EXPLICITLY GIVEN OR THERE IS ALSO CHANCE THAT THERE IS NO RATING GIVEN TO THEM AT ALL.\n",
    "IT IS BETTER TO DROP VALUES HAVING STAR RATING ==0"
   ]
  },
  {
   "cell_type": "code",
   "execution_count": 40,
   "metadata": {},
   "outputs": [
    {
     "data": {
      "text/plain": [
       "<AxesSubplot:>"
      ]
     },
     "execution_count": 40,
     "metadata": {},
     "output_type": "execute_result"
    },
    {
     "data": {
      "image/png": "[encoded data removed]",
      "text/plain": [
       "<Figure size 648x360 with 1 Axes>"
      ]
     },
     "metadata": {
      "needs_background": "light"
     },
     "output_type": "display_data"
    }
   ],
   "source": [
    "data2 = data[data.star_rating != 0]\n",
    "data2.star_rating.plot(kind='box')"
   ]
  },
  {
   "cell_type": "code",
   "execution_count": 41,
   "metadata": {},
   "outputs": [
    {
     "data": {
      "text/plain": [
       "count       862.000000\n",
       "mean      74877.500000\n",
       "std       45647.731463\n",
       "min       13990.000000\n",
       "25%       44922.500000\n",
       "50%       62308.500000\n",
       "75%       85990.000000\n",
       "max      441990.000000\n",
       "Name: latest_price, dtype: float64"
      ]
     },
     "execution_count": 41,
     "metadata": {},
     "output_type": "execute_result"
    }
   ],
   "source": [
    "data['latest_price'].describe()"
   ]
  },
  {
   "cell_type": "markdown",
   "metadata": {},
   "source": [
    "#### Which is the costliest laptop?"
   ]
  },
  {
   "cell_type": "code",
   "execution_count": 65,
   "metadata": {},
   "outputs": [
    {
     "name": "stdout",
     "output_type": "stream",
     "text": [
      "Highest price is:  [441990]\n"
     ]
    },
    {
     "name": "stderr",
     "output_type": "stream",
     "text": [
      "/tmp/ipykernel_39/1876261878.py:4: SettingWithCopyWarning: \n",
      "A value is trying to be set on a copy of a slice from a DataFrame.\n",
      "Try using .loc[row_indexer,col_indexer] = value instead\n",
      "\n",
      "See the caveats in the documentation: https://pandas.pydata.org/pandas-docs/stable/user_guide/indexing.html#returning-a-view-versus-a-copy\n",
      "  data2['price_cat'] = pd.cut(data2['latest_price'],bins=[0,100000,200000,300000,400000,500000],labels=['<1lakh','1-2lakh','2-3lakhs','3-4lakhs','4-5lakhs'])\n"
     ]
    }
   ],
   "source": [
    "max_price=[max(df['latest_price'])]\n",
    "print(\"Highest price is: \", max_price)\n",
    "\n",
    "data2['price_cat'] = pd.cut(data2['latest_price'],bins=[0,100000,200000,300000,400000,500000],labels=['<1lakh','1-2lakh','2-3lakhs','3-4lakhs','4-5lakhs'])"
   ]
  },
  {
   "cell_type": "code",
   "execution_count": 69,
   "metadata": {},
   "outputs": [
    {
     "data": {
      "text/plain": [
       "<1lakh      526\n",
       "1-2lakh      66\n",
       "2-3lakhs      8\n",
       "3-4lakhs      2\n",
       "4-5lakhs      1\n",
       "Name: price_cat, dtype: int64"
      ]
     },
     "execution_count": 69,
     "metadata": {},
     "output_type": "execute_result"
    }
   ],
   "source": [
    "data2['price_cat'].value_counts()"
   ]
  },
  {
   "cell_type": "code",
   "execution_count": 70,
   "metadata": {},
   "outputs": [
    {
     "data": {
      "text/html": [
       "<div>\n",
       "<style scoped>\n",
       "    .dataframe tbody tr th:only-of-type {\n",
       "        vertical-align: middle;\n",
       "    }\n",
       "\n",
       "    .dataframe tbody tr th {\n",
       "        vertical-align: top;\n",
       "    }\n",
       "\n",
       "    .dataframe thead th {\n",
       "        text-align: right;\n",
       "    }\n",
       "</style>\n",
       "<table border=\"1\" class=\"dataframe\">\n",
       "  <thead>\n",
       "    <tr style=\"text-align: right;\">\n",
       "      <th></th>\n",
       "      <th>brand</th>\n",
       "      <th>model</th>\n",
       "      <th>processor_brand</th>\n",
       "      <th>processor_name</th>\n",
       "      <th>processor_gnrtn</th>\n",
       "      <th>ram_gb</th>\n",
       "      <th>ram_type</th>\n",
       "      <th>ssd</th>\n",
       "      <th>hdd</th>\n",
       "      <th>os</th>\n",
       "      <th>...</th>\n",
       "      <th>warranty</th>\n",
       "      <th>Touchscreen</th>\n",
       "      <th>msoffice</th>\n",
       "      <th>latest_price</th>\n",
       "      <th>old_price</th>\n",
       "      <th>discount</th>\n",
       "      <th>star_rating</th>\n",
       "      <th>ratings</th>\n",
       "      <th>reviews</th>\n",
       "      <th>price_cat</th>\n",
       "    </tr>\n",
       "  </thead>\n",
       "  <tbody>\n",
       "    <tr>\n",
       "      <th>625</th>\n",
       "      <td>ASUS</td>\n",
       "      <td>Zephyrus</td>\n",
       "      <td>Intel</td>\n",
       "      <td>Core i9</td>\n",
       "      <td>11th</td>\n",
       "      <td>32</td>\n",
       "      <td>DDR4</td>\n",
       "      <td>3072</td>\n",
       "      <td>0</td>\n",
       "      <td>Windows</td>\n",
       "      <td>...</td>\n",
       "      <td>1</td>\n",
       "      <td>No</td>\n",
       "      <td>No</td>\n",
       "      <td>441990</td>\n",
       "      <td>0</td>\n",
       "      <td>0</td>\n",
       "      <td>5.0</td>\n",
       "      <td>1</td>\n",
       "      <td>1</td>\n",
       "      <td>4-5lakhs</td>\n",
       "    </tr>\n",
       "  </tbody>\n",
       "</table>\n",
       "<p>1 rows × 24 columns</p>\n",
       "</div>"
      ],
      "text/plain": [
       "    brand     model processor_brand processor_name processor_gnrtn ram_gb  \\\n",
       "625  ASUS  Zephyrus           Intel        Core i9            11th     32   \n",
       "\n",
       "    ram_type   ssd  hdd       os  ...  warranty  Touchscreen msoffice  \\\n",
       "625     DDR4  3072    0  Windows  ...         1           No       No   \n",
       "\n",
       "    latest_price  old_price discount star_rating  ratings  reviews  price_cat  \n",
       "625       441990          0        0         5.0        1        1   4-5lakhs  \n",
       "\n",
       "[1 rows x 24 columns]"
      ]
     },
     "execution_count": 70,
     "metadata": {},
     "output_type": "execute_result"
    }
   ],
   "source": [
    "data2[data2['price_cat'] == \"4-5lakhs\"]  # Costliest laptop"
   ]
  },
  {
   "cell_type": "code",
   "execution_count": 42,
   "metadata": {},
   "outputs": [
    {
     "data": {
      "text/plain": [
       "count    862.000000\n",
       "mean      18.634571\n",
       "std       10.383242\n",
       "min        0.000000\n",
       "25%       11.000000\n",
       "50%       19.000000\n",
       "75%       25.000000\n",
       "max       57.000000\n",
       "Name: discount, dtype: float64"
      ]
     },
     "execution_count": 42,
     "metadata": {},
     "output_type": "execute_result"
    }
   ],
   "source": [
    "data.discount.describe()"
   ]
  },
  {
   "cell_type": "markdown",
   "metadata": {},
   "source": [
    "## Asking and Answering Questions\n",
    "\n",
    "\n"
   ]
  },
  {
   "cell_type": "markdown",
   "metadata": {},
   "source": [
    "#### Which is the highest sold processor?"
   ]
  },
  {
   "cell_type": "code",
   "execution_count": 77,
   "metadata": {},
   "outputs": [
    {
     "data": {
      "text/plain": [
       "<AxesSubplot:>"
      ]
     },
     "execution_count": 77,
     "metadata": {},
     "output_type": "execute_result"
    },
    {
     "data": {
      "image/png": "[encoded data removed]",
      "text/plain": [
       "<Figure size 648x360 with 1 Axes>"
      ]
     },
     "metadata": {
      "needs_background": "light"
     },
     "output_type": "display_data"
    }
   ],
   "source": [
    "df['processor_brand'].value_counts().plot.barh()"
   ]
  },
  {
   "cell_type": "markdown",
   "metadata": {},
   "source": [
    "#### Which brand has the highest sale?"
   ]
  },
  {
   "cell_type": "code",
   "execution_count": 78,
   "metadata": {},
   "outputs": [
    {
     "data": {
      "text/plain": [
       "<AxesSubplot:>"
      ]
     },
     "execution_count": 78,
     "metadata": {},
     "output_type": "execute_result"
    },
    {
     "data": {
      "image/png": "[encoded data removed]",
      "text/plain": [
       "<Figure size 648x360 with 1 Axes>"
      ]
     },
     "metadata": {
      "needs_background": "light"
     },
     "output_type": "display_data"
    }
   ],
   "source": [
    "df.brand.value_counts().head(10).plot.bar()"
   ]
  },
  {
   "cell_type": "markdown",
   "metadata": {},
   "source": [
    "#### Which processor is the most used?"
   ]
  },
  {
   "cell_type": "code",
   "execution_count": 80,
   "metadata": {},
   "outputs": [
    {
     "data": {
      "text/plain": [
       "<AxesSubplot:>"
      ]
     },
     "execution_count": 80,
     "metadata": {},
     "output_type": "execute_result"
    },
    {
     "data": {
      "image/png": "[encoded data removed]",
      "text/plain": [
       "<Figure size 648x360 with 1 Axes>"
      ]
     },
     "metadata": {
      "needs_background": "light"
     },
     "output_type": "display_data"
    }
   ],
   "source": [
    "df['processor_name'].value_counts().head(10).plot.bar()"
   ]
  },
  {
   "cell_type": "markdown",
   "metadata": {},
   "source": [
    "#### Is there a relationship between higher rating and price?"
   ]
  },
  {
   "cell_type": "code",
   "execution_count": 89,
   "metadata": {},
   "outputs": [
    {
     "data": {
      "text/plain": [
       "<AxesSubplot:xlabel='latest_price', ylabel='star_rating'>"
      ]
     },
     "execution_count": 89,
     "metadata": {},
     "output_type": "execute_result"
    },
    {
     "data": {
      "image/png": "[encoded data removed]",
      "text/plain": [
       "<Figure size 648x360 with 1 Axes>"
      ]
     },
     "metadata": {
      "needs_background": "light"
     },
     "output_type": "display_data"
    }
   ],
   "source": [
    "df[['latest_price','star_rating']].plot.scatter(x='latest_price',y='star_rating')"
   ]
  },
  {
   "cell_type": "code",
   "execution_count": 71,
   "metadata": {},
   "outputs": [
    {
     "data": {
      "text/plain": [
       "<AxesSubplot:xlabel='latest_price', ylabel='star_rating'>"
      ]
     },
     "execution_count": 71,
     "metadata": {},
     "output_type": "execute_result"
    },
    {
     "data": {
      "image/png": "[encoded data removed]",
      "text/plain": [
       "<Figure size 648x360 with 1 Axes>"
      ]
     },
     "metadata": {
      "needs_background": "light"
     },
     "output_type": "display_data"
    }
   ],
   "source": [
    "data2[data2['latest_price'] > 100000][['latest_price','star_rating']].plot.scatter(x='latest_price',y='star_rating')  "
   ]
  },
  {
   "cell_type": "markdown",
   "metadata": {},
   "source": [
    "#### What is the relation between rating and discount?"
   ]
  },
  {
   "cell_type": "code",
   "execution_count": 75,
   "metadata": {},
   "outputs": [
    {
     "data": {
      "text/plain": [
       "<AxesSubplot:xlabel='star_rating', ylabel='discount'>"
      ]
     },
     "execution_count": 75,
     "metadata": {},
     "output_type": "execute_result"
    },
    {
     "data": {
      "image/png": "[encoded data removed]",
      "text/plain": [
       "<Figure size 648x360 with 1 Axes>"
      ]
     },
     "metadata": {
      "needs_background": "light"
     },
     "output_type": "display_data"
    }
   ],
   "source": [
    "data2.plot.scatter(x=\"star_rating\",y='discount') "
   ]
  },
  {
   "cell_type": "markdown",
   "metadata": {},
   "source": [
    "Let us save and upload our work to Jovian before continuing."
   ]
  },
  {
   "cell_type": "markdown",
   "metadata": {},
   "source": [
    "#### ANALYSING LAPTOPS WHICH HAVE PRICE MORE THAN 1 LAKH AND HAVE LOW RATINGS-"
   ]
  },
  {
   "cell_type": "code",
   "execution_count": 76,
   "metadata": {},
   "outputs": [
    {
     "data": {
      "text/plain": [
       "<AxesSubplot:>"
      ]
     },
     "execution_count": 76,
     "metadata": {},
     "output_type": "execute_result"
    },
    {
     "data": {
      "image/png": "[encoded data removed]",
      "text/plain": [
       "<Figure size 648x360 with 1 Axes>"
      ]
     },
     "metadata": {
      "needs_background": "light"
     },
     "output_type": "display_data"
    }
   ],
   "source": [
    "data2[data2['latest_price'] > 100000].brand.value_counts().plot.barh()"
   ]
  },
  {
   "cell_type": "code",
   "execution_count": 77,
   "metadata": {
    "scrolled": true
   },
   "outputs": [
    {
     "data": {
      "text/html": [
       "<div>\n",
       "<style scoped>\n",
       "    .dataframe tbody tr th:only-of-type {\n",
       "        vertical-align: middle;\n",
       "    }\n",
       "\n",
       "    .dataframe tbody tr th {\n",
       "        vertical-align: top;\n",
       "    }\n",
       "\n",
       "    .dataframe thead th {\n",
       "        text-align: right;\n",
       "    }\n",
       "</style>\n",
       "<table border=\"1\" class=\"dataframe\">\n",
       "  <thead>\n",
       "    <tr style=\"text-align: right;\">\n",
       "      <th></th>\n",
       "      <th>brand</th>\n",
       "      <th>model</th>\n",
       "      <th>processor_brand</th>\n",
       "      <th>processor_name</th>\n",
       "      <th>processor_gnrtn</th>\n",
       "      <th>ram_gb</th>\n",
       "      <th>ram_type</th>\n",
       "      <th>ssd</th>\n",
       "      <th>hdd</th>\n",
       "      <th>os</th>\n",
       "      <th>...</th>\n",
       "      <th>warranty</th>\n",
       "      <th>Touchscreen</th>\n",
       "      <th>msoffice</th>\n",
       "      <th>latest_price</th>\n",
       "      <th>old_price</th>\n",
       "      <th>discount</th>\n",
       "      <th>star_rating</th>\n",
       "      <th>ratings</th>\n",
       "      <th>reviews</th>\n",
       "      <th>price_cat</th>\n",
       "    </tr>\n",
       "  </thead>\n",
       "  <tbody>\n",
       "    <tr>\n",
       "      <th>421</th>\n",
       "      <td>Lenovo</td>\n",
       "      <td>Yoga</td>\n",
       "      <td>Intel</td>\n",
       "      <td>Core i7</td>\n",
       "      <td>11th</td>\n",
       "      <td>16</td>\n",
       "      <td>LPDDR4X</td>\n",
       "      <td>1024</td>\n",
       "      <td>0</td>\n",
       "      <td>Windows</td>\n",
       "      <td>...</td>\n",
       "      <td>1</td>\n",
       "      <td>No</td>\n",
       "      <td>Yes</td>\n",
       "      <td>122990</td>\n",
       "      <td>167890</td>\n",
       "      <td>26</td>\n",
       "      <td>3.0</td>\n",
       "      <td>4</td>\n",
       "      <td>2</td>\n",
       "      <td>1-2lakh</td>\n",
       "    </tr>\n",
       "    <tr>\n",
       "      <th>495</th>\n",
       "      <td>DELL</td>\n",
       "      <td>XPS</td>\n",
       "      <td>Intel</td>\n",
       "      <td>Core i7</td>\n",
       "      <td>8th</td>\n",
       "      <td>16</td>\n",
       "      <td>DDR3</td>\n",
       "      <td>512</td>\n",
       "      <td>0</td>\n",
       "      <td>Windows</td>\n",
       "      <td>...</td>\n",
       "      <td>1</td>\n",
       "      <td>No</td>\n",
       "      <td>Yes</td>\n",
       "      <td>121890</td>\n",
       "      <td>139104</td>\n",
       "      <td>12</td>\n",
       "      <td>1.7</td>\n",
       "      <td>3</td>\n",
       "      <td>0</td>\n",
       "      <td>1-2lakh</td>\n",
       "    </tr>\n",
       "    <tr>\n",
       "      <th>645</th>\n",
       "      <td>HP</td>\n",
       "      <td>Spectre</td>\n",
       "      <td>Intel</td>\n",
       "      <td>Core i7</td>\n",
       "      <td>10th</td>\n",
       "      <td>16</td>\n",
       "      <td>DDR4</td>\n",
       "      <td>512</td>\n",
       "      <td>0</td>\n",
       "      <td>Windows</td>\n",
       "      <td>...</td>\n",
       "      <td>1</td>\n",
       "      <td>Yes</td>\n",
       "      <td>No</td>\n",
       "      <td>162990</td>\n",
       "      <td>192977</td>\n",
       "      <td>15</td>\n",
       "      <td>3.3</td>\n",
       "      <td>3</td>\n",
       "      <td>1</td>\n",
       "      <td>1-2lakh</td>\n",
       "    </tr>\n",
       "    <tr>\n",
       "      <th>699</th>\n",
       "      <td>Lenovo</td>\n",
       "      <td>Yoga</td>\n",
       "      <td>Intel</td>\n",
       "      <td>Core i7</td>\n",
       "      <td>10th</td>\n",
       "      <td>16</td>\n",
       "      <td>LPDDR4X</td>\n",
       "      <td>1024</td>\n",
       "      <td>0</td>\n",
       "      <td>Windows</td>\n",
       "      <td>...</td>\n",
       "      <td>0</td>\n",
       "      <td>No</td>\n",
       "      <td>No</td>\n",
       "      <td>119990</td>\n",
       "      <td>148082</td>\n",
       "      <td>18</td>\n",
       "      <td>2.5</td>\n",
       "      <td>2</td>\n",
       "      <td>1</td>\n",
       "      <td>1-2lakh</td>\n",
       "    </tr>\n",
       "  </tbody>\n",
       "</table>\n",
       "<p>4 rows × 24 columns</p>\n",
       "</div>"
      ],
      "text/plain": [
       "      brand    model processor_brand processor_name processor_gnrtn ram_gb  \\\n",
       "421  Lenovo     Yoga           Intel        Core i7            11th     16   \n",
       "495    DELL      XPS           Intel        Core i7             8th     16   \n",
       "645      HP  Spectre           Intel        Core i7            10th     16   \n",
       "699  Lenovo     Yoga           Intel        Core i7            10th     16   \n",
       "\n",
       "    ram_type   ssd  hdd       os  ...  warranty  Touchscreen msoffice  \\\n",
       "421  LPDDR4X  1024    0  Windows  ...         1           No      Yes   \n",
       "495     DDR3   512    0  Windows  ...         1           No      Yes   \n",
       "645     DDR4   512    0  Windows  ...         1          Yes       No   \n",
       "699  LPDDR4X  1024    0  Windows  ...         0           No       No   \n",
       "\n",
       "    latest_price  old_price discount star_rating  ratings  reviews  price_cat  \n",
       "421       122990     167890       26         3.0        4        2    1-2lakh  \n",
       "495       121890     139104       12         1.7        3        0    1-2lakh  \n",
       "645       162990     192977       15         3.3        3        1    1-2lakh  \n",
       "699       119990     148082       18         2.5        2        1    1-2lakh  \n",
       "\n",
       "[4 rows x 24 columns]"
      ]
     },
     "execution_count": 77,
     "metadata": {},
     "output_type": "execute_result"
    }
   ],
   "source": [
    "data2[(data2['latest_price'] > 100000)&(data2['star_rating'] < 3.5)]"
   ]
  },
  {
   "cell_type": "markdown",
   "metadata": {},
   "source": [
    "#### TWO OUT OF FOUR LAPTOPS ARE LENOVO YOGA WITH PRICE MORE THAN 100000 AND RATING LESS THAN 3.5.\n",
    "#### THIS IS THE REASON HIGH DISCONTS ARE GIVEN ON THESE LAPTOPS."
   ]
  },
  {
   "cell_type": "code",
   "execution_count": 78,
   "metadata": {},
   "outputs": [],
   "source": [
    "import jovian"
   ]
  },
  {
   "cell_type": "code",
   "execution_count": 79,
   "metadata": {},
   "outputs": [
    {
     "data": {
      "application/javascript": [
       "window.require && require([\"base/js/namespace\"],function(Jupyter){Jupyter.notebook.save_checkpoint()})"
      ],
      "text/plain": [
       "<IPython.core.display.Javascript object>"
      ]
     },
     "metadata": {},
     "output_type": "display_data"
    },
    {
     "name": "stdout",
     "output_type": "stream",
     "text": [
      "[jovian] Updating notebook \"aanchalkanoria902/laptop-data-analysis\" on https://jovian.ai\u001b[0m\n",
      "[jovian] Committed successfully! https://jovian.ai/aanchalkanoria902/laptop-data-analysis\u001b[0m\n"
     ]
    },
    {
     "data": {
      "text/plain": [
       "'https://jovian.ai/aanchalkanoria902/laptop-data-analysis'"
      ]
     },
     "execution_count": 79,
     "metadata": {},
     "output_type": "execute_result"
    }
   ],
   "source": [
    "jovian.commit()"
   ]
  },
  {
   "cell_type": "markdown",
   "metadata": {},
   "source": [
    "## Inferences and Conclusion\n",
    "\n",
    "**INFERENCES** \n",
    "(1) Intel is the highest sold processor after AMD.\n",
    "(2) ASUS has the highest sales, followed by DELL. \n",
    "(3) Most used processor is Corei5, followed by Corei3.\n",
    "(4) Laptops having higher price are mostly rated more than 4. \n",
    "(5) Higher the rating, lesser is the discount. \n",
    "(6) Asus's Zephyrus is the costliest laptop."
   ]
  },
  {
   "cell_type": "code",
   "execution_count": 80,
   "metadata": {},
   "outputs": [],
   "source": [
    "import jovian"
   ]
  },
  {
   "cell_type": "code",
   "execution_count": 81,
   "metadata": {},
   "outputs": [
    {
     "data": {
      "application/javascript": [
       "window.require && require([\"base/js/namespace\"],function(Jupyter){Jupyter.notebook.save_checkpoint()})"
      ],
      "text/plain": [
       "<IPython.core.display.Javascript object>"
      ]
     },
     "metadata": {},
     "output_type": "display_data"
    },
    {
     "name": "stdout",
     "output_type": "stream",
     "text": [
      "[jovian] Updating notebook \"aanchalkanoria902/laptop-data-analysis\" on https://jovian.ai\u001b[0m\n",
      "[jovian] Committed successfully! https://jovian.ai/aanchalkanoria902/laptop-data-analysis\u001b[0m\n"
     ]
    },
    {
     "data": {
      "text/plain": [
       "'https://jovian.ai/aanchalkanoria902/laptop-data-analysis'"
      ]
     },
     "execution_count": 81,
     "metadata": {},
     "output_type": "execute_result"
    }
   ],
   "source": [
    "jovian.commit()"
   ]
  },
  {
   "cell_type": "markdown",
   "metadata": {},
   "source": [
    "## References and Future Work\n",
    "\n",
    "Further we can analyse the factors on which ratings and prices depend. We can also interpret if customers are inclined towards warranty period, ram_type, os, and so on. "
   ]
  },
  {
   "cell_type": "code",
   "execution_count": 82,
   "metadata": {},
   "outputs": [],
   "source": [
    "import jovian"
   ]
  },
  {
   "cell_type": "code",
   "execution_count": 83,
   "metadata": {
    "scrolled": true
   },
   "outputs": [
    {
     "data": {
      "application/javascript": [
       "window.require && require([\"base/js/namespace\"],function(Jupyter){Jupyter.notebook.save_checkpoint()})"
      ],
      "text/plain": [
       "<IPython.core.display.Javascript object>"
      ]
     },
     "metadata": {},
     "output_type": "display_data"
    },
    {
     "name": "stdout",
     "output_type": "stream",
     "text": [
      "[jovian] Updating notebook \"aanchalkanoria902/laptop-data-analysis\" on https://jovian.ai\u001b[0m\n",
      "[jovian] Committed successfully! https://jovian.ai/aanchalkanoria902/laptop-data-analysis\u001b[0m\n"
     ]
    },
    {
     "data": {
      "text/plain": [
       "'https://jovian.ai/aanchalkanoria902/laptop-data-analysis'"
      ]
     },
     "execution_count": 83,
     "metadata": {},
     "output_type": "execute_result"
    }
   ],
   "source": [
    "jovian.commit()"
   ]
  },
  {
   "cell_type": "code",
   "execution_count": null,
   "metadata": {},
   "outputs": [],
   "source": []
  }
 ],
 "metadata": {
  "kernelspec": {
   "display_name": "Python 3 (ipykernel)",
   "language": "python",
   "name": "python3"
  },
  "language_info": {
   "codemirror_mode": {
    "name": "ipython",
    "version": 3
   },
   "file_extension": ".py",
   "mimetype": "text/x-python",
   "name": "python",
   "nbconvert_exporter": "python",
   "pygments_lexer": "ipython3",
   "version": "3.9.6"
  }
 },
 "nbformat": 4,
 "nbformat_minor": 4
}
